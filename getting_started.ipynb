{
  "cells": [
    {
      "cell_type": "markdown",
      "metadata": {
        "id": "NtqIgqxrPYmi"
      },
      "source": [
        "# Sentiment Analysis on British-Airways reviews\n",
        "\n",
        "---\n",
        "\n",
        "Sentiment analysis is the process of understanding the opinion of an author about a\n",
        "subject"
      ]
    },
    {
      "cell_type": "markdown",
      "metadata": {
        "id": "1P66q6fHtRQk"
      },
      "source": [
        "## Web scraping and analysis\n",
        "\n",
        "### Scraping data from Skytrax\n",
        "link: [https://www.airlinequality.com/airline-reviews/british-airways] "
      ]
    },
    {
      "cell_type": "code",
      "execution_count": 1,
      "metadata": {
        "id": "UupWCTh_PYmr"
      },
      "outputs": [],
      "source": [
        "import requests\n",
        "from bs4 import BeautifulSoup\n",
        "import pandas as pd\n"
      ]
    },
    {
      "cell_type": "code",
      "execution_count": 2,
      "metadata": {
        "id": "QQoFbK0jPYmu"
      },
      "outputs": [
        {
          "name": "stdout",
          "output_type": "stream",
          "text": [
            "Scraping page 1\n",
            "   ---> 100 total reviews\n",
            "Scraping page 2\n",
            "   ---> 200 total reviews\n",
            "Scraping page 3\n",
            "   ---> 300 total reviews\n",
            "Scraping page 4\n",
            "   ---> 400 total reviews\n",
            "Scraping page 5\n",
            "   ---> 500 total reviews\n",
            "Scraping page 6\n",
            "   ---> 600 total reviews\n",
            "Scraping page 7\n",
            "   ---> 700 total reviews\n",
            "Scraping page 8\n",
            "   ---> 800 total reviews\n",
            "Scraping page 9\n",
            "   ---> 900 total reviews\n",
            "Scraping page 10\n",
            "   ---> 1000 total reviews\n"
          ]
        }
      ],
      "source": [
        "base_url = \"https://www.airlinequality.com/airline-reviews/british-airways\"\n",
        "pages = 10\n",
        "page_size = 100\n",
        "\n",
        "reviews = []\n",
        "\n",
        "# for i in range(1, pages + 1):\n",
        "for i in range(1, pages + 1):\n",
        "\n",
        "    print(f\"Scraping page {i}\")\n",
        "\n",
        "    # Create URL to collect links from paginated data\n",
        "    url = f\"{base_url}/page/{i}/?sortby=post_date%3ADesc&pagesize={page_size}\"\n",
        "\n",
        "    # Collect HTML data from this page\n",
        "    response = requests.get(url)\n",
        "\n",
        "    # Parse content\n",
        "    content = response.content\n",
        "    parsed_content = BeautifulSoup(content, 'html.parser')\n",
        "    for para in parsed_content.find_all(\"div\", {\"class\": \"text_content\"}):\n",
        "        reviews.append(para.get_text())\n",
        "    \n",
        "    print(f\"   ---> {len(reviews)} total reviews\")"
      ]
    },
    {
      "cell_type": "code",
      "execution_count": null,
      "metadata": {
        "id": "Z0SoCYboc0KH"
      },
      "outputs": [],
      "source": [
        "print(reviews)"
      ]
    },
    {
      "cell_type": "code",
      "execution_count": 4,
      "metadata": {
        "id": "pbJd4x4LPYmy"
      },
      "outputs": [
        {
          "data": {
            "text/html": [
              "<div>\n",
              "<style scoped>\n",
              "    .dataframe tbody tr th:only-of-type {\n",
              "        vertical-align: middle;\n",
              "    }\n",
              "\n",
              "    .dataframe tbody tr th {\n",
              "        vertical-align: top;\n",
              "    }\n",
              "\n",
              "    .dataframe thead th {\n",
              "        text-align: right;\n",
              "    }\n",
              "</style>\n",
              "<table border=\"1\" class=\"dataframe\">\n",
              "  <thead>\n",
              "    <tr style=\"text-align: right;\">\n",
              "      <th></th>\n",
              "      <th>reviews</th>\n",
              "    </tr>\n",
              "  </thead>\n",
              "  <tbody>\n",
              "    <tr>\n",
              "      <th>0</th>\n",
              "      <td>✅ Trip Verified | Excellent service both on th...</td>\n",
              "    </tr>\n",
              "    <tr>\n",
              "      <th>1</th>\n",
              "      <td>✅ Trip Verified |  Good lounge at Cape Town. O...</td>\n",
              "    </tr>\n",
              "    <tr>\n",
              "      <th>2</th>\n",
              "      <td>✅ Trip Verified |  A really excellent journey....</td>\n",
              "    </tr>\n",
              "    <tr>\n",
              "      <th>3</th>\n",
              "      <td>✅ Trip Verified |  This flight was one of the ...</td>\n",
              "    </tr>\n",
              "    <tr>\n",
              "      <th>4</th>\n",
              "      <td>Not Verified | It seems that there is a race t...</td>\n",
              "    </tr>\n",
              "  </tbody>\n",
              "</table>\n",
              "</div>"
            ],
            "text/plain": [
              "                                             reviews\n",
              "0  ✅ Trip Verified | Excellent service both on th...\n",
              "1  ✅ Trip Verified |  Good lounge at Cape Town. O...\n",
              "2  ✅ Trip Verified |  A really excellent journey....\n",
              "3  ✅ Trip Verified |  This flight was one of the ...\n",
              "4  Not Verified | It seems that there is a race t..."
            ]
          },
          "execution_count": 4,
          "metadata": {},
          "output_type": "execute_result"
        }
      ],
      "source": [
        "BA_review = pd.DataFrame()\n",
        "BA_review[\"reviews\"] = reviews\n",
        "BA_review.head()"
      ]
    },
    {
      "cell_type": "code",
      "execution_count": 5,
      "metadata": {
        "id": "g1WHaEqDzQ56"
      },
      "outputs": [
        {
          "data": {
            "text/html": [
              "<div>\n",
              "<style scoped>\n",
              "    .dataframe tbody tr th:only-of-type {\n",
              "        vertical-align: middle;\n",
              "    }\n",
              "\n",
              "    .dataframe tbody tr th {\n",
              "        vertical-align: top;\n",
              "    }\n",
              "\n",
              "    .dataframe thead th {\n",
              "        text-align: right;\n",
              "    }\n",
              "</style>\n",
              "<table border=\"1\" class=\"dataframe\">\n",
              "  <thead>\n",
              "    <tr style=\"text-align: right;\">\n",
              "      <th></th>\n",
              "      <th>reviews</th>\n",
              "    </tr>\n",
              "  </thead>\n",
              "  <tbody>\n",
              "    <tr>\n",
              "      <th>0</th>\n",
              "      <td>Excellent service both on the ground and on bo...</td>\n",
              "    </tr>\n",
              "    <tr>\n",
              "      <th>1</th>\n",
              "      <td>Good lounge at Cape Town. On time departure. ...</td>\n",
              "    </tr>\n",
              "    <tr>\n",
              "      <th>2</th>\n",
              "      <td>A really excellent journey. Lounge not overcr...</td>\n",
              "    </tr>\n",
              "    <tr>\n",
              "      <th>3</th>\n",
              "      <td>This flight was one of the worst I have ever ...</td>\n",
              "    </tr>\n",
              "    <tr>\n",
              "      <th>4</th>\n",
              "      <td>It seems that there is a race to the bottom am...</td>\n",
              "    </tr>\n",
              "  </tbody>\n",
              "</table>\n",
              "</div>"
            ],
            "text/plain": [
              "                                             reviews\n",
              "0  Excellent service both on the ground and on bo...\n",
              "1   Good lounge at Cape Town. On time departure. ...\n",
              "2   A really excellent journey. Lounge not overcr...\n",
              "3   This flight was one of the worst I have ever ...\n",
              "4  It seems that there is a race to the bottom am..."
            ]
          },
          "execution_count": 5,
          "metadata": {},
          "output_type": "execute_result"
        }
      ],
      "source": [
        "a = '✅ Trip Verified | '\n",
        "b = 'Not Verified | '\n",
        "c = '✅ Trip Verified |  '\n",
        "d = '❎ '\n",
        "\n",
        "df_list = []\n",
        "for review in BA_review['reviews']:\n",
        "  review = review.replace(a,\"\")\n",
        "  review = review.replace(b,\"\")\n",
        "  review = review.replace(c,\"\")\n",
        "  review = review.replace(d,\"\")\n",
        "  df_list.append(review)\n",
        "\n",
        "\n",
        "df = pd.DataFrame()\n",
        "df['reviews']= df_list\n",
        "df.head()"
      ]
    },
    {
      "cell_type": "code",
      "execution_count": null,
      "metadata": {
        "id": "QWFScJmQZnfD"
      },
      "outputs": [],
      "source": [
        "print(df_list)"
      ]
    },
    {
      "cell_type": "code",
      "execution_count": 7,
      "metadata": {},
      "outputs": [],
      "source": [
        "df.to_csv('BA_review.csv')"
      ]
    },
    {
      "cell_type": "markdown",
      "metadata": {
        "id": "B9Q8V5hVoF9E"
      },
      "source": [
        "## Data Cleaning:"
      ]
    },
    {
      "cell_type": "code",
      "execution_count": 2,
      "metadata": {
        "colab": {
          "base_uri": "https://localhost:8080/"
        },
        "id": "m04b7F5hR9YO",
        "outputId": "0acc2caf-727b-4e74-9826-6ea0de9145ea"
      },
      "outputs": [
        {
          "name": "stdout",
          "output_type": "stream",
          "text": [
            "Mounted at /content/drive\n"
          ]
        }
      ],
      "source": [
        "from google.colab import drive\n",
        "drive.mount('/content/drive')"
      ]
    },
    {
      "cell_type": "code",
      "execution_count": 8,
      "metadata": {
        "colab": {
          "base_uri": "https://localhost:8080/",
          "height": 206
        },
        "id": "CdEesxjhGBBD",
        "outputId": "e16eff7a-652d-47aa-9c9b-4c851715d53c"
      },
      "outputs": [
        {
          "data": {
            "text/html": [
              "<div>\n",
              "<style scoped>\n",
              "    .dataframe tbody tr th:only-of-type {\n",
              "        vertical-align: middle;\n",
              "    }\n",
              "\n",
              "    .dataframe tbody tr th {\n",
              "        vertical-align: top;\n",
              "    }\n",
              "\n",
              "    .dataframe thead th {\n",
              "        text-align: right;\n",
              "    }\n",
              "</style>\n",
              "<table border=\"1\" class=\"dataframe\">\n",
              "  <thead>\n",
              "    <tr style=\"text-align: right;\">\n",
              "      <th></th>\n",
              "      <th>Unnamed: 0</th>\n",
              "      <th>reviews</th>\n",
              "    </tr>\n",
              "  </thead>\n",
              "  <tbody>\n",
              "    <tr>\n",
              "      <th>0</th>\n",
              "      <td>0</td>\n",
              "      <td>Excellent service both on the ground and on bo...</td>\n",
              "    </tr>\n",
              "    <tr>\n",
              "      <th>1</th>\n",
              "      <td>1</td>\n",
              "      <td>Good lounge at Cape Town. On time departure. ...</td>\n",
              "    </tr>\n",
              "    <tr>\n",
              "      <th>2</th>\n",
              "      <td>2</td>\n",
              "      <td>A really excellent journey. Lounge not overcr...</td>\n",
              "    </tr>\n",
              "    <tr>\n",
              "      <th>3</th>\n",
              "      <td>3</td>\n",
              "      <td>This flight was one of the worst I have ever ...</td>\n",
              "    </tr>\n",
              "    <tr>\n",
              "      <th>4</th>\n",
              "      <td>4</td>\n",
              "      <td>It seems that there is a race to the bottom am...</td>\n",
              "    </tr>\n",
              "  </tbody>\n",
              "</table>\n",
              "</div>"
            ],
            "text/plain": [
              "   Unnamed: 0                                            reviews\n",
              "0           0  Excellent service both on the ground and on bo...\n",
              "1           1   Good lounge at Cape Town. On time departure. ...\n",
              "2           2   A really excellent journey. Lounge not overcr...\n",
              "3           3   This flight was one of the worst I have ever ...\n",
              "4           4  It seems that there is a race to the bottom am..."
            ]
          },
          "execution_count": 8,
          "metadata": {},
          "output_type": "execute_result"
        }
      ],
      "source": [
        "path='BA_review.csv'\n",
        "df=pd.read_csv(path)\n",
        "df.head()"
      ]
    },
    {
      "cell_type": "code",
      "execution_count": 9,
      "metadata": {
        "id": "cldn07GiLjPX"
      },
      "outputs": [
        {
          "ename": "AttributeError",
          "evalue": "'DataFrame' object has no attribute 'text'",
          "output_type": "error",
          "traceback": [
            "\u001b[1;31m---------------------------------------------------------------------------\u001b[0m",
            "\u001b[1;31mAttributeError\u001b[0m                            Traceback (most recent call last)",
            "\u001b[1;32mc:\\Users\\50bit\\Desktop\\BA\\british_airways_sentiment_analysis-main\\getting_started.ipynb Cell 13\u001b[0m in \u001b[0;36m<cell line: 1>\u001b[1;34m()\u001b[0m\n\u001b[1;32m----> <a href='vscode-notebook-cell:/c%3A/Users/50bit/Desktop/BA/british_airways_sentiment_analysis-main/getting_started.ipynb#X14sZmlsZQ%3D%3D?line=0'>1</a>\u001b[0m \u001b[39mprint\u001b[39m(df\u001b[39m.\u001b[39;49mtext\u001b[39m.\u001b[39mtolist())\n",
            "File \u001b[1;32m~\\AppData\\Roaming\\Python\\Python39\\site-packages\\pandas\\core\\generic.py:5575\u001b[0m, in \u001b[0;36mNDFrame.__getattr__\u001b[1;34m(self, name)\u001b[0m\n\u001b[0;32m   5568\u001b[0m \u001b[39mif\u001b[39;00m (\n\u001b[0;32m   5569\u001b[0m     name \u001b[39mnot\u001b[39;00m \u001b[39min\u001b[39;00m \u001b[39mself\u001b[39m\u001b[39m.\u001b[39m_internal_names_set\n\u001b[0;32m   5570\u001b[0m     \u001b[39mand\u001b[39;00m name \u001b[39mnot\u001b[39;00m \u001b[39min\u001b[39;00m \u001b[39mself\u001b[39m\u001b[39m.\u001b[39m_metadata\n\u001b[0;32m   5571\u001b[0m     \u001b[39mand\u001b[39;00m name \u001b[39mnot\u001b[39;00m \u001b[39min\u001b[39;00m \u001b[39mself\u001b[39m\u001b[39m.\u001b[39m_accessors\n\u001b[0;32m   5572\u001b[0m     \u001b[39mand\u001b[39;00m \u001b[39mself\u001b[39m\u001b[39m.\u001b[39m_info_axis\u001b[39m.\u001b[39m_can_hold_identifiers_and_holds_name(name)\n\u001b[0;32m   5573\u001b[0m ):\n\u001b[0;32m   5574\u001b[0m     \u001b[39mreturn\u001b[39;00m \u001b[39mself\u001b[39m[name]\n\u001b[1;32m-> 5575\u001b[0m \u001b[39mreturn\u001b[39;00m \u001b[39mobject\u001b[39;49m\u001b[39m.\u001b[39;49m\u001b[39m__getattribute__\u001b[39;49m(\u001b[39mself\u001b[39;49m, name)\n",
            "\u001b[1;31mAttributeError\u001b[0m: 'DataFrame' object has no attribute 'text'"
          ]
        }
      ],
      "source": [
        "print(df.text.tolist())"
      ]
    },
    {
      "cell_type": "code",
      "execution_count": 5,
      "metadata": {
        "colab": {
          "base_uri": "https://localhost:8080/",
          "height": 293
        },
        "id": "T3h9evUWJv1M",
        "outputId": "876e0fcc-a25f-4340-949a-0e6095abdd62"
      },
      "outputs": [
        {
          "name": "stderr",
          "output_type": "stream",
          "text": [
            "<ipython-input-5-ad124dbf5f82>:10: SettingWithCopyWarning: \n",
            "A value is trying to be set on a copy of a slice from a DataFrame\n",
            "\n",
            "See the caveats in the documentation: https://pandas.pydata.org/pandas-docs/stable/user_guide/indexing.html#returning-a-view-versus-a-copy\n",
            "  df.score[i]=opinion(df.score[i])\n"
          ]
        },
        {
          "data": {
            "text/html": [
              "\n",
              "  <div id=\"df-cb326d70-ebaa-41c2-a0ec-7bd2165b9e61\">\n",
              "    <div class=\"colab-df-container\">\n",
              "      <div>\n",
              "<style scoped>\n",
              "    .dataframe tbody tr th:only-of-type {\n",
              "        vertical-align: middle;\n",
              "    }\n",
              "\n",
              "    .dataframe tbody tr th {\n",
              "        vertical-align: top;\n",
              "    }\n",
              "\n",
              "    .dataframe thead th {\n",
              "        text-align: right;\n",
              "    }\n",
              "</style>\n",
              "<table border=\"1\" class=\"dataframe\">\n",
              "  <thead>\n",
              "    <tr style=\"text-align: right;\">\n",
              "      <th></th>\n",
              "      <th>text</th>\n",
              "      <th>score</th>\n",
              "    </tr>\n",
              "  </thead>\n",
              "  <tbody>\n",
              "    <tr>\n",
              "      <th>0</th>\n",
              "      <td>✅ Trip Verified |  Mumbai to Edinburgh via Lon...</td>\n",
              "      <td>2</td>\n",
              "    </tr>\n",
              "    <tr>\n",
              "      <th>1</th>\n",
              "      <td>✅ Trip Verified |  Mumbai to London Heathrow. ...</td>\n",
              "      <td>2</td>\n",
              "    </tr>\n",
              "    <tr>\n",
              "      <th>2</th>\n",
              "      <td>✅ Trip Verified |  Delhi to London. Having rea...</td>\n",
              "      <td>2</td>\n",
              "    </tr>\n",
              "    <tr>\n",
              "      <th>3</th>\n",
              "      <td>✅ Trip Verified | When you travel British Airw...</td>\n",
              "      <td>1</td>\n",
              "    </tr>\n",
              "    <tr>\n",
              "      <th>4</th>\n",
              "      <td>✅ Trip Verified |  British Airways gets plenty...</td>\n",
              "      <td>2</td>\n",
              "    </tr>\n",
              "  </tbody>\n",
              "</table>\n",
              "</div>\n",
              "      <button class=\"colab-df-convert\" onclick=\"convertToInteractive('df-cb326d70-ebaa-41c2-a0ec-7bd2165b9e61')\"\n",
              "              title=\"Convert this dataframe to an interactive table.\"\n",
              "              style=\"display:none;\">\n",
              "        \n",
              "  <svg xmlns=\"http://www.w3.org/2000/svg\" height=\"24px\"viewBox=\"0 0 24 24\"\n",
              "       width=\"24px\">\n",
              "    <path d=\"M0 0h24v24H0V0z\" fill=\"none\"/>\n",
              "    <path d=\"M18.56 5.44l.94 2.06.94-2.06 2.06-.94-2.06-.94-.94-2.06-.94 2.06-2.06.94zm-11 1L8.5 8.5l.94-2.06 2.06-.94-2.06-.94L8.5 2.5l-.94 2.06-2.06.94zm10 10l.94 2.06.94-2.06 2.06-.94-2.06-.94-.94-2.06-.94 2.06-2.06.94z\"/><path d=\"M17.41 7.96l-1.37-1.37c-.4-.4-.92-.59-1.43-.59-.52 0-1.04.2-1.43.59L10.3 9.45l-7.72 7.72c-.78.78-.78 2.05 0 2.83L4 21.41c.39.39.9.59 1.41.59.51 0 1.02-.2 1.41-.59l7.78-7.78 2.81-2.81c.8-.78.8-2.07 0-2.86zM5.41 20L4 18.59l7.72-7.72 1.47 1.35L5.41 20z\"/>\n",
              "  </svg>\n",
              "      </button>\n",
              "      \n",
              "  <style>\n",
              "    .colab-df-container {\n",
              "      display:flex;\n",
              "      flex-wrap:wrap;\n",
              "      gap: 12px;\n",
              "    }\n",
              "\n",
              "    .colab-df-convert {\n",
              "      background-color: #E8F0FE;\n",
              "      border: none;\n",
              "      border-radius: 50%;\n",
              "      cursor: pointer;\n",
              "      display: none;\n",
              "      fill: #1967D2;\n",
              "      height: 32px;\n",
              "      padding: 0 0 0 0;\n",
              "      width: 32px;\n",
              "    }\n",
              "\n",
              "    .colab-df-convert:hover {\n",
              "      background-color: #E2EBFA;\n",
              "      box-shadow: 0px 1px 2px rgba(60, 64, 67, 0.3), 0px 1px 3px 1px rgba(60, 64, 67, 0.15);\n",
              "      fill: #174EA6;\n",
              "    }\n",
              "\n",
              "    [theme=dark] .colab-df-convert {\n",
              "      background-color: #3B4455;\n",
              "      fill: #D2E3FC;\n",
              "    }\n",
              "\n",
              "    [theme=dark] .colab-df-convert:hover {\n",
              "      background-color: #434B5C;\n",
              "      box-shadow: 0px 1px 3px 1px rgba(0, 0, 0, 0.15);\n",
              "      filter: drop-shadow(0px 1px 2px rgba(0, 0, 0, 0.3));\n",
              "      fill: #FFFFFF;\n",
              "    }\n",
              "  </style>\n",
              "\n",
              "      <script>\n",
              "        const buttonEl =\n",
              "          document.querySelector('#df-cb326d70-ebaa-41c2-a0ec-7bd2165b9e61 button.colab-df-convert');\n",
              "        buttonEl.style.display =\n",
              "          google.colab.kernel.accessAllowed ? 'block' : 'none';\n",
              "\n",
              "        async function convertToInteractive(key) {\n",
              "          const element = document.querySelector('#df-cb326d70-ebaa-41c2-a0ec-7bd2165b9e61');\n",
              "          const dataTable =\n",
              "            await google.colab.kernel.invokeFunction('convertToInteractive',\n",
              "                                                     [key], {});\n",
              "          if (!dataTable) return;\n",
              "\n",
              "          const docLinkHtml = 'Like what you see? Visit the ' +\n",
              "            '<a target=\"_blank\" href=https://colab.research.google.com/notebooks/data_table.ipynb>data table notebook</a>'\n",
              "            + ' to learn more about interactive tables.';\n",
              "          element.innerHTML = '';\n",
              "          dataTable['output_type'] = 'display_data';\n",
              "          await google.colab.output.renderOutput(dataTable, element);\n",
              "          const docLink = document.createElement('div');\n",
              "          docLink.innerHTML = docLinkHtml;\n",
              "          element.appendChild(docLink);\n",
              "        }\n",
              "      </script>\n",
              "    </div>\n",
              "  </div>\n",
              "  "
            ],
            "text/plain": [
              "                                                text  score\n",
              "0  ✅ Trip Verified |  Mumbai to Edinburgh via Lon...      2\n",
              "1  ✅ Trip Verified |  Mumbai to London Heathrow. ...      2\n",
              "2  ✅ Trip Verified |  Delhi to London. Having rea...      2\n",
              "3  ✅ Trip Verified | When you travel British Airw...      1\n",
              "4  ✅ Trip Verified |  British Airways gets plenty...      2"
            ]
          },
          "execution_count": 5,
          "metadata": {},
          "output_type": "execute_result"
        }
      ],
      "source": [
        "def opinion(score):\n",
        "  if(score>=6 and score<=10):\n",
        "    return 2\n",
        "  if(score<4 and score >=0):\n",
        "    return 0\n",
        "  else:\n",
        "    return 1\n",
        "\n",
        "for i in range(len(df)):\n",
        "  df.score[i]=opinion(df.score[i])\n",
        "\n",
        "df.head()"
      ]
    },
    {
      "cell_type": "code",
      "execution_count": 6,
      "metadata": {
        "colab": {
          "base_uri": "https://localhost:8080/",
          "height": 206
        },
        "id": "W7D9uOOsM0Il",
        "outputId": "f8577e51-d664-4af0-aafd-64bf10ad6062"
      },
      "outputs": [
        {
          "data": {
            "text/html": [
              "\n",
              "  <div id=\"df-7781fb53-e713-4336-af17-758bf90be112\">\n",
              "    <div class=\"colab-df-container\">\n",
              "      <div>\n",
              "<style scoped>\n",
              "    .dataframe tbody tr th:only-of-type {\n",
              "        vertical-align: middle;\n",
              "    }\n",
              "\n",
              "    .dataframe tbody tr th {\n",
              "        vertical-align: top;\n",
              "    }\n",
              "\n",
              "    .dataframe thead th {\n",
              "        text-align: right;\n",
              "    }\n",
              "</style>\n",
              "<table border=\"1\" class=\"dataframe\">\n",
              "  <thead>\n",
              "    <tr style=\"text-align: right;\">\n",
              "      <th></th>\n",
              "      <th>text</th>\n",
              "      <th>score</th>\n",
              "    </tr>\n",
              "  </thead>\n",
              "  <tbody>\n",
              "    <tr>\n",
              "      <th>0</th>\n",
              "      <td>Mumbai to Edinburgh via London. I'm quite sur...</td>\n",
              "      <td>2</td>\n",
              "    </tr>\n",
              "    <tr>\n",
              "      <th>1</th>\n",
              "      <td>Mumbai to London Heathrow. Disappointing expe...</td>\n",
              "      <td>2</td>\n",
              "    </tr>\n",
              "    <tr>\n",
              "      <th>2</th>\n",
              "      <td>Delhi to London. Having read many negative re...</td>\n",
              "      <td>2</td>\n",
              "    </tr>\n",
              "    <tr>\n",
              "      <th>3</th>\n",
              "      <td>When you travel British Airways its like you a...</td>\n",
              "      <td>1</td>\n",
              "    </tr>\n",
              "    <tr>\n",
              "      <th>4</th>\n",
              "      <td>British Airways gets plenty of well deserved ...</td>\n",
              "      <td>2</td>\n",
              "    </tr>\n",
              "  </tbody>\n",
              "</table>\n",
              "</div>\n",
              "      <button class=\"colab-df-convert\" onclick=\"convertToInteractive('df-7781fb53-e713-4336-af17-758bf90be112')\"\n",
              "              title=\"Convert this dataframe to an interactive table.\"\n",
              "              style=\"display:none;\">\n",
              "        \n",
              "  <svg xmlns=\"http://www.w3.org/2000/svg\" height=\"24px\"viewBox=\"0 0 24 24\"\n",
              "       width=\"24px\">\n",
              "    <path d=\"M0 0h24v24H0V0z\" fill=\"none\"/>\n",
              "    <path d=\"M18.56 5.44l.94 2.06.94-2.06 2.06-.94-2.06-.94-.94-2.06-.94 2.06-2.06.94zm-11 1L8.5 8.5l.94-2.06 2.06-.94-2.06-.94L8.5 2.5l-.94 2.06-2.06.94zm10 10l.94 2.06.94-2.06 2.06-.94-2.06-.94-.94-2.06-.94 2.06-2.06.94z\"/><path d=\"M17.41 7.96l-1.37-1.37c-.4-.4-.92-.59-1.43-.59-.52 0-1.04.2-1.43.59L10.3 9.45l-7.72 7.72c-.78.78-.78 2.05 0 2.83L4 21.41c.39.39.9.59 1.41.59.51 0 1.02-.2 1.41-.59l7.78-7.78 2.81-2.81c.8-.78.8-2.07 0-2.86zM5.41 20L4 18.59l7.72-7.72 1.47 1.35L5.41 20z\"/>\n",
              "  </svg>\n",
              "      </button>\n",
              "      \n",
              "  <style>\n",
              "    .colab-df-container {\n",
              "      display:flex;\n",
              "      flex-wrap:wrap;\n",
              "      gap: 12px;\n",
              "    }\n",
              "\n",
              "    .colab-df-convert {\n",
              "      background-color: #E8F0FE;\n",
              "      border: none;\n",
              "      border-radius: 50%;\n",
              "      cursor: pointer;\n",
              "      display: none;\n",
              "      fill: #1967D2;\n",
              "      height: 32px;\n",
              "      padding: 0 0 0 0;\n",
              "      width: 32px;\n",
              "    }\n",
              "\n",
              "    .colab-df-convert:hover {\n",
              "      background-color: #E2EBFA;\n",
              "      box-shadow: 0px 1px 2px rgba(60, 64, 67, 0.3), 0px 1px 3px 1px rgba(60, 64, 67, 0.15);\n",
              "      fill: #174EA6;\n",
              "    }\n",
              "\n",
              "    [theme=dark] .colab-df-convert {\n",
              "      background-color: #3B4455;\n",
              "      fill: #D2E3FC;\n",
              "    }\n",
              "\n",
              "    [theme=dark] .colab-df-convert:hover {\n",
              "      background-color: #434B5C;\n",
              "      box-shadow: 0px 1px 3px 1px rgba(0, 0, 0, 0.15);\n",
              "      filter: drop-shadow(0px 1px 2px rgba(0, 0, 0, 0.3));\n",
              "      fill: #FFFFFF;\n",
              "    }\n",
              "  </style>\n",
              "\n",
              "      <script>\n",
              "        const buttonEl =\n",
              "          document.querySelector('#df-7781fb53-e713-4336-af17-758bf90be112 button.colab-df-convert');\n",
              "        buttonEl.style.display =\n",
              "          google.colab.kernel.accessAllowed ? 'block' : 'none';\n",
              "\n",
              "        async function convertToInteractive(key) {\n",
              "          const element = document.querySelector('#df-7781fb53-e713-4336-af17-758bf90be112');\n",
              "          const dataTable =\n",
              "            await google.colab.kernel.invokeFunction('convertToInteractive',\n",
              "                                                     [key], {});\n",
              "          if (!dataTable) return;\n",
              "\n",
              "          const docLinkHtml = 'Like what you see? Visit the ' +\n",
              "            '<a target=\"_blank\" href=https://colab.research.google.com/notebooks/data_table.ipynb>data table notebook</a>'\n",
              "            + ' to learn more about interactive tables.';\n",
              "          element.innerHTML = '';\n",
              "          dataTable['output_type'] = 'display_data';\n",
              "          await google.colab.output.renderOutput(dataTable, element);\n",
              "          const docLink = document.createElement('div');\n",
              "          docLink.innerHTML = docLinkHtml;\n",
              "          element.appendChild(docLink);\n",
              "        }\n",
              "      </script>\n",
              "    </div>\n",
              "  </div>\n",
              "  "
            ],
            "text/plain": [
              "                                                text  score\n",
              "0   Mumbai to Edinburgh via London. I'm quite sur...      2\n",
              "1   Mumbai to London Heathrow. Disappointing expe...      2\n",
              "2   Delhi to London. Having read many negative re...      2\n",
              "3  When you travel British Airways its like you a...      1\n",
              "4   British Airways gets plenty of well deserved ...      2"
            ]
          },
          "execution_count": 6,
          "metadata": {},
          "output_type": "execute_result"
        }
      ],
      "source": [
        "d = '✅ Trip Verified | '\n",
        "e = 'Not Verified | '\n",
        "f = '✅ Trip Verified |  '\n",
        "g = '❎ '\n",
        "\n",
        "df_list = []\n",
        "for review in df['text']:\n",
        "  review = review.replace(d,\"\")\n",
        "  review = review.replace(e,\"\")\n",
        "  review = review.replace(f,\"\")\n",
        "  review = review.replace(g,\"\")\n",
        "  df_list.append(review)\n",
        "\n",
        "\n",
        "df_cleaned = pd.DataFrame()\n",
        "df_cleaned['text']= df_list\n",
        "df_cleaned['score']= df.score\n",
        "\n",
        "df_cleaned.head()"
      ]
    },
    {
      "cell_type": "code",
      "execution_count": 7,
      "metadata": {
        "colab": {
          "base_uri": "https://localhost:8080/",
          "height": 206
        },
        "id": "jCS7T6DGfYhc",
        "outputId": "ae6a353d-b63d-4aad-8099-47c60d7d9bf0"
      },
      "outputs": [
        {
          "data": {
            "text/html": [
              "\n",
              "  <div id=\"df-b15226de-4521-45d3-8975-66723528012e\">\n",
              "    <div class=\"colab-df-container\">\n",
              "      <div>\n",
              "<style scoped>\n",
              "    .dataframe tbody tr th:only-of-type {\n",
              "        vertical-align: middle;\n",
              "    }\n",
              "\n",
              "    .dataframe tbody tr th {\n",
              "        vertical-align: top;\n",
              "    }\n",
              "\n",
              "    .dataframe thead th {\n",
              "        text-align: right;\n",
              "    }\n",
              "</style>\n",
              "<table border=\"1\" class=\"dataframe\">\n",
              "  <thead>\n",
              "    <tr style=\"text-align: right;\">\n",
              "      <th></th>\n",
              "      <th>text</th>\n",
              "      <th>score</th>\n",
              "    </tr>\n",
              "  </thead>\n",
              "  <tbody>\n",
              "    <tr>\n",
              "      <th>0</th>\n",
              "      <td>Mumbai to Edinburgh via London. I'm quite sur...</td>\n",
              "      <td>2</td>\n",
              "    </tr>\n",
              "    <tr>\n",
              "      <th>1</th>\n",
              "      <td>Mumbai to London Heathrow. Disappointing expe...</td>\n",
              "      <td>2</td>\n",
              "    </tr>\n",
              "    <tr>\n",
              "      <th>2</th>\n",
              "      <td>Delhi to London. Having read many negative re...</td>\n",
              "      <td>2</td>\n",
              "    </tr>\n",
              "    <tr>\n",
              "      <th>3</th>\n",
              "      <td>When you travel British Airways its like you a...</td>\n",
              "      <td>1</td>\n",
              "    </tr>\n",
              "    <tr>\n",
              "      <th>4</th>\n",
              "      <td>British Airways gets plenty of well deserved ...</td>\n",
              "      <td>2</td>\n",
              "    </tr>\n",
              "  </tbody>\n",
              "</table>\n",
              "</div>\n",
              "      <button class=\"colab-df-convert\" onclick=\"convertToInteractive('df-b15226de-4521-45d3-8975-66723528012e')\"\n",
              "              title=\"Convert this dataframe to an interactive table.\"\n",
              "              style=\"display:none;\">\n",
              "        \n",
              "  <svg xmlns=\"http://www.w3.org/2000/svg\" height=\"24px\"viewBox=\"0 0 24 24\"\n",
              "       width=\"24px\">\n",
              "    <path d=\"M0 0h24v24H0V0z\" fill=\"none\"/>\n",
              "    <path d=\"M18.56 5.44l.94 2.06.94-2.06 2.06-.94-2.06-.94-.94-2.06-.94 2.06-2.06.94zm-11 1L8.5 8.5l.94-2.06 2.06-.94-2.06-.94L8.5 2.5l-.94 2.06-2.06.94zm10 10l.94 2.06.94-2.06 2.06-.94-2.06-.94-.94-2.06-.94 2.06-2.06.94z\"/><path d=\"M17.41 7.96l-1.37-1.37c-.4-.4-.92-.59-1.43-.59-.52 0-1.04.2-1.43.59L10.3 9.45l-7.72 7.72c-.78.78-.78 2.05 0 2.83L4 21.41c.39.39.9.59 1.41.59.51 0 1.02-.2 1.41-.59l7.78-7.78 2.81-2.81c.8-.78.8-2.07 0-2.86zM5.41 20L4 18.59l7.72-7.72 1.47 1.35L5.41 20z\"/>\n",
              "  </svg>\n",
              "      </button>\n",
              "      \n",
              "  <style>\n",
              "    .colab-df-container {\n",
              "      display:flex;\n",
              "      flex-wrap:wrap;\n",
              "      gap: 12px;\n",
              "    }\n",
              "\n",
              "    .colab-df-convert {\n",
              "      background-color: #E8F0FE;\n",
              "      border: none;\n",
              "      border-radius: 50%;\n",
              "      cursor: pointer;\n",
              "      display: none;\n",
              "      fill: #1967D2;\n",
              "      height: 32px;\n",
              "      padding: 0 0 0 0;\n",
              "      width: 32px;\n",
              "    }\n",
              "\n",
              "    .colab-df-convert:hover {\n",
              "      background-color: #E2EBFA;\n",
              "      box-shadow: 0px 1px 2px rgba(60, 64, 67, 0.3), 0px 1px 3px 1px rgba(60, 64, 67, 0.15);\n",
              "      fill: #174EA6;\n",
              "    }\n",
              "\n",
              "    [theme=dark] .colab-df-convert {\n",
              "      background-color: #3B4455;\n",
              "      fill: #D2E3FC;\n",
              "    }\n",
              "\n",
              "    [theme=dark] .colab-df-convert:hover {\n",
              "      background-color: #434B5C;\n",
              "      box-shadow: 0px 1px 3px 1px rgba(0, 0, 0, 0.15);\n",
              "      filter: drop-shadow(0px 1px 2px rgba(0, 0, 0, 0.3));\n",
              "      fill: #FFFFFF;\n",
              "    }\n",
              "  </style>\n",
              "\n",
              "      <script>\n",
              "        const buttonEl =\n",
              "          document.querySelector('#df-b15226de-4521-45d3-8975-66723528012e button.colab-df-convert');\n",
              "        buttonEl.style.display =\n",
              "          google.colab.kernel.accessAllowed ? 'block' : 'none';\n",
              "\n",
              "        async function convertToInteractive(key) {\n",
              "          const element = document.querySelector('#df-b15226de-4521-45d3-8975-66723528012e');\n",
              "          const dataTable =\n",
              "            await google.colab.kernel.invokeFunction('convertToInteractive',\n",
              "                                                     [key], {});\n",
              "          if (!dataTable) return;\n",
              "\n",
              "          const docLinkHtml = 'Like what you see? Visit the ' +\n",
              "            '<a target=\"_blank\" href=https://colab.research.google.com/notebooks/data_table.ipynb>data table notebook</a>'\n",
              "            + ' to learn more about interactive tables.';\n",
              "          element.innerHTML = '';\n",
              "          dataTable['output_type'] = 'display_data';\n",
              "          await google.colab.output.renderOutput(dataTable, element);\n",
              "          const docLink = document.createElement('div');\n",
              "          docLink.innerHTML = docLinkHtml;\n",
              "          element.appendChild(docLink);\n",
              "        }\n",
              "      </script>\n",
              "    </div>\n",
              "  </div>\n",
              "  "
            ],
            "text/plain": [
              "                                                text  score\n",
              "0   Mumbai to Edinburgh via London. I'm quite sur...      2\n",
              "1   Mumbai to London Heathrow. Disappointing expe...      2\n",
              "2   Delhi to London. Having read many negative re...      2\n",
              "3  When you travel British Airways its like you a...      1\n",
              "4   British Airways gets plenty of well deserved ...      2"
            ]
          },
          "execution_count": 7,
          "metadata": {},
          "output_type": "execute_result"
        }
      ],
      "source": [
        "df_cleaned.replace([\"a-zA-Z\"],\" \",regex=True,inplace=True)\n",
        "df_cleaned.head()"
      ]
    },
    {
      "cell_type": "code",
      "execution_count": 8,
      "metadata": {
        "id": "I9C5aJDZOQnd"
      },
      "outputs": [],
      "source": [
        "df_cleaned.to_csv(\"/content/drive/MyDrive/Colab Notebooks/british_air_dataViz/BA_reviews_cleaned.csv\")\n"
      ]
    },
    {
      "cell_type": "markdown",
      "metadata": {
        "id": "bjUeq1Q-egc8"
      },
      "source": [
        "##Text Pre-processing:\n",
        "In this section the review text will be processed to remove unwanted stop-words/numbers/puntuations etc.\n",
        "\n",
        "\n",
        "The text will be then lemmatized to their root words and will be made ready for sentiment analysis"
      ]
    },
    {
      "cell_type": "code",
      "execution_count": 9,
      "metadata": {
        "colab": {
          "base_uri": "https://localhost:8080/"
        },
        "id": "O5_tz9HFaM9h",
        "outputId": "ee1f4ad0-4271-447c-be1a-6f0f02a86025"
      },
      "outputs": [
        {
          "name": "stderr",
          "output_type": "stream",
          "text": [
            "[nltk_data] Downloading package punkt to /root/nltk_data...\n",
            "[nltk_data]   Unzipping tokenizers/punkt.zip.\n",
            "[nltk_data] Downloading package stopwords to /root/nltk_data...\n",
            "[nltk_data]   Unzipping corpora/stopwords.zip.\n",
            "[nltk_data] Downloading package wordnet to /root/nltk_data...\n",
            "[nltk_data] Downloading package omw-1.4 to /root/nltk_data...\n"
          ]
        },
        {
          "data": {
            "text/plain": [
              "True"
            ]
          },
          "execution_count": 9,
          "metadata": {},
          "output_type": "execute_result"
        }
      ],
      "source": [
        "# importing nltk library needed for NLP \n",
        "import nltk\n",
        "nltk.download('punkt')\n",
        "nltk.download('stopwords')\n",
        "nltk.download('wordnet')\n",
        "nltk.download('omw-1.4')\n"
      ]
    },
    {
      "cell_type": "code",
      "execution_count": 10,
      "metadata": {
        "colab": {
          "base_uri": "https://localhost:8080/",
          "height": 293
        },
        "id": "F85U00DSvLSE",
        "outputId": "719dea91-b7fc-4769-c79b-fcc6c651fbbe"
      },
      "outputs": [
        {
          "name": "stderr",
          "output_type": "stream",
          "text": [
            "<ipython-input-10-8a428bce758d>:3: SettingWithCopyWarning: \n",
            "A value is trying to be set on a copy of a slice from a DataFrame\n",
            "\n",
            "See the caveats in the documentation: https://pandas.pydata.org/pandas-docs/stable/user_guide/indexing.html#returning-a-view-versus-a-copy\n",
            "  df_cleaned.text[i]=df_cleaned.text[i].lower()\n"
          ]
        },
        {
          "data": {
            "text/html": [
              "\n",
              "  <div id=\"df-ad94b0b8-2709-449c-87bd-9c5623e6b97e\">\n",
              "    <div class=\"colab-df-container\">\n",
              "      <div>\n",
              "<style scoped>\n",
              "    .dataframe tbody tr th:only-of-type {\n",
              "        vertical-align: middle;\n",
              "    }\n",
              "\n",
              "    .dataframe tbody tr th {\n",
              "        vertical-align: top;\n",
              "    }\n",
              "\n",
              "    .dataframe thead th {\n",
              "        text-align: right;\n",
              "    }\n",
              "</style>\n",
              "<table border=\"1\" class=\"dataframe\">\n",
              "  <thead>\n",
              "    <tr style=\"text-align: right;\">\n",
              "      <th></th>\n",
              "      <th>text</th>\n",
              "      <th>score</th>\n",
              "    </tr>\n",
              "  </thead>\n",
              "  <tbody>\n",
              "    <tr>\n",
              "      <th>0</th>\n",
              "      <td>mumbai to edinburgh via london. i'm quite sur...</td>\n",
              "      <td>2</td>\n",
              "    </tr>\n",
              "    <tr>\n",
              "      <th>1</th>\n",
              "      <td>mumbai to london heathrow. disappointing expe...</td>\n",
              "      <td>2</td>\n",
              "    </tr>\n",
              "    <tr>\n",
              "      <th>2</th>\n",
              "      <td>delhi to london. having read many negative re...</td>\n",
              "      <td>2</td>\n",
              "    </tr>\n",
              "    <tr>\n",
              "      <th>3</th>\n",
              "      <td>when you travel british airways its like you a...</td>\n",
              "      <td>1</td>\n",
              "    </tr>\n",
              "    <tr>\n",
              "      <th>4</th>\n",
              "      <td>british airways gets plenty of well deserved ...</td>\n",
              "      <td>2</td>\n",
              "    </tr>\n",
              "  </tbody>\n",
              "</table>\n",
              "</div>\n",
              "      <button class=\"colab-df-convert\" onclick=\"convertToInteractive('df-ad94b0b8-2709-449c-87bd-9c5623e6b97e')\"\n",
              "              title=\"Convert this dataframe to an interactive table.\"\n",
              "              style=\"display:none;\">\n",
              "        \n",
              "  <svg xmlns=\"http://www.w3.org/2000/svg\" height=\"24px\"viewBox=\"0 0 24 24\"\n",
              "       width=\"24px\">\n",
              "    <path d=\"M0 0h24v24H0V0z\" fill=\"none\"/>\n",
              "    <path d=\"M18.56 5.44l.94 2.06.94-2.06 2.06-.94-2.06-.94-.94-2.06-.94 2.06-2.06.94zm-11 1L8.5 8.5l.94-2.06 2.06-.94-2.06-.94L8.5 2.5l-.94 2.06-2.06.94zm10 10l.94 2.06.94-2.06 2.06-.94-2.06-.94-.94-2.06-.94 2.06-2.06.94z\"/><path d=\"M17.41 7.96l-1.37-1.37c-.4-.4-.92-.59-1.43-.59-.52 0-1.04.2-1.43.59L10.3 9.45l-7.72 7.72c-.78.78-.78 2.05 0 2.83L4 21.41c.39.39.9.59 1.41.59.51 0 1.02-.2 1.41-.59l7.78-7.78 2.81-2.81c.8-.78.8-2.07 0-2.86zM5.41 20L4 18.59l7.72-7.72 1.47 1.35L5.41 20z\"/>\n",
              "  </svg>\n",
              "      </button>\n",
              "      \n",
              "  <style>\n",
              "    .colab-df-container {\n",
              "      display:flex;\n",
              "      flex-wrap:wrap;\n",
              "      gap: 12px;\n",
              "    }\n",
              "\n",
              "    .colab-df-convert {\n",
              "      background-color: #E8F0FE;\n",
              "      border: none;\n",
              "      border-radius: 50%;\n",
              "      cursor: pointer;\n",
              "      display: none;\n",
              "      fill: #1967D2;\n",
              "      height: 32px;\n",
              "      padding: 0 0 0 0;\n",
              "      width: 32px;\n",
              "    }\n",
              "\n",
              "    .colab-df-convert:hover {\n",
              "      background-color: #E2EBFA;\n",
              "      box-shadow: 0px 1px 2px rgba(60, 64, 67, 0.3), 0px 1px 3px 1px rgba(60, 64, 67, 0.15);\n",
              "      fill: #174EA6;\n",
              "    }\n",
              "\n",
              "    [theme=dark] .colab-df-convert {\n",
              "      background-color: #3B4455;\n",
              "      fill: #D2E3FC;\n",
              "    }\n",
              "\n",
              "    [theme=dark] .colab-df-convert:hover {\n",
              "      background-color: #434B5C;\n",
              "      box-shadow: 0px 1px 3px 1px rgba(0, 0, 0, 0.15);\n",
              "      filter: drop-shadow(0px 1px 2px rgba(0, 0, 0, 0.3));\n",
              "      fill: #FFFFFF;\n",
              "    }\n",
              "  </style>\n",
              "\n",
              "      <script>\n",
              "        const buttonEl =\n",
              "          document.querySelector('#df-ad94b0b8-2709-449c-87bd-9c5623e6b97e button.colab-df-convert');\n",
              "        buttonEl.style.display =\n",
              "          google.colab.kernel.accessAllowed ? 'block' : 'none';\n",
              "\n",
              "        async function convertToInteractive(key) {\n",
              "          const element = document.querySelector('#df-ad94b0b8-2709-449c-87bd-9c5623e6b97e');\n",
              "          const dataTable =\n",
              "            await google.colab.kernel.invokeFunction('convertToInteractive',\n",
              "                                                     [key], {});\n",
              "          if (!dataTable) return;\n",
              "\n",
              "          const docLinkHtml = 'Like what you see? Visit the ' +\n",
              "            '<a target=\"_blank\" href=https://colab.research.google.com/notebooks/data_table.ipynb>data table notebook</a>'\n",
              "            + ' to learn more about interactive tables.';\n",
              "          element.innerHTML = '';\n",
              "          dataTable['output_type'] = 'display_data';\n",
              "          await google.colab.output.renderOutput(dataTable, element);\n",
              "          const docLink = document.createElement('div');\n",
              "          docLink.innerHTML = docLinkHtml;\n",
              "          element.appendChild(docLink);\n",
              "        }\n",
              "      </script>\n",
              "    </div>\n",
              "  </div>\n",
              "  "
            ],
            "text/plain": [
              "                                                text  score\n",
              "0   mumbai to edinburgh via london. i'm quite sur...      2\n",
              "1   mumbai to london heathrow. disappointing expe...      2\n",
              "2   delhi to london. having read many negative re...      2\n",
              "3  when you travel british airways its like you a...      1\n",
              "4   british airways gets plenty of well deserved ...      2"
            ]
          },
          "execution_count": 10,
          "metadata": {},
          "output_type": "execute_result"
        }
      ],
      "source": [
        "# Making the review text to lower-case.\n",
        "for i in range(len(df_cleaned)):\n",
        "  df_cleaned.text[i]=df_cleaned.text[i].lower()\n",
        "\n",
        "df_cleaned.head()\n"
      ]
    },
    {
      "cell_type": "code",
      "execution_count": null,
      "metadata": {
        "id": "HI7TwVnBystv"
      },
      "outputs": [],
      "source": [
        "# Tokenization of texts into words\n",
        "from nltk import word_tokenize as wt\n",
        "\n",
        "word_tokens=[wt(review) for review in df_cleaned.text]    #word_tokens is a list(reviews) of list(review) of strings(text)\n",
        "print(word_tokens)"
      ]
    },
    {
      "cell_type": "code",
      "execution_count": 12,
      "metadata": {
        "colab": {
          "base_uri": "https://localhost:8080/"
        },
        "id": "UCuSP7BCzs6p",
        "outputId": "77322adc-dd51-43a4-c69f-1b15ad7e1882"
      },
      "outputs": [
        {
          "name": "stdout",
          "output_type": "stream",
          "text": [
            "['mumbai', 'to', 'edinburgh', 'via', 'london', 'i', 'quite', 'surprised', 'to', 'read', 'the', 'varied', 'reviews', 'as', 'i', 'have', 'always', 'had', 'a', 'great', 'experience', 'with', 'ba', 'in', 'terms', 'of', 'service', 'and', 'airport', 'handling', 'after', 'sales', 'service', 'can', 'be', 'a', 'different', 'experience', 'this', 'flight', 'i', 'arrived', 'a', 'little', 'late', 'at', 'the', 'airport', 'due', 'to', 'transport', 'issues', 'hot', 'and', 'sweaty', 'and', 'the', 'girl', 'was', 'such', 'a', 'blessing', 'she', 'calmed', 'me', 'down', 'reassured', 'me', 'and', 'helped', 'me', 'get', 'through', 'security', 'swiftly', 'i', 'was', 'able', 'to', 'secure', 'a', 'very', 'cheap', 'upgrade', 'to', 'premium', 'economy', 'and', 'i', 'am', 'so', 'glad', 'i', 'did', 'the', 'service', 'was', 'wonderful', 'we', 'were', 'looked', 'after', 'very', 'well', 'lots', 'of', 'water', 'offered', 'throughout', 'the', 'flight', 'i', 'thought', 'the', 'seat', 'was', 'tremendously', 'spacious', 'and', 'comfortable', 'even', 'for', 'the', 'regular', 'upgrade', 'price', 'rather', 'than', 'seats', 'to', 'the', 'side', 'and', 'rather', 'than', 'in', 'the', 'centre', 'gives', 'you', 'a', 'lot', 'more', 'space', 'the', 'food', 'was', 'ok', 'i', 'had', 'worse', 'i', 'had', 'better', 'but', 'i', 'was', 'comfortable', 'a', 'good', 'temperature', 'and', 'had', 'a', 'great', 'choice', 'of', 'films', 'my', 'connecting', 'plane', 'was', 'late', 'leaving', 'heathrow', 'to', 'edinburgh', 'due', 'to', 'bad', 'weather', 'but', 'it', 'was', 'handled', 'very', 'nicely', 'all', 'in', 'all', 'i', 'glad', 'i', 'flew', 'ba', 'for', 'this', 'trip']\n"
          ]
        }
      ],
      "source": [
        "# Cleaning the tokens and removing numbers and puntuations.\n",
        "cleaned_tokens=[[word for word in item if word.isalpha()] for item in word_tokens]\n",
        "print(cleaned_tokens[0])"
      ]
    },
    {
      "cell_type": "code",
      "execution_count": null,
      "metadata": {
        "id": "6ti4NqZg087m"
      },
      "outputs": [],
      "source": [
        "# Stemming the word tokens to its root word\n",
        "from nltk.stem import PorterStemmer\n",
        "      # for removing the stopwords from the tokens...\n",
        "porter=PorterStemmer()\n",
        "\n",
        "stemmed_tokens = [[porter.stem(word) for word in text if word not in set(stopwords.words('english'))] for text in cleaned_tokens]\n",
        "print(stemmed_tokens[0])"
      ]
    },
    {
      "cell_type": "code",
      "execution_count": 13,
      "metadata": {
        "id": "kGHZ-yAZ4YMR"
      },
      "outputs": [],
      "source": [
        "from nltk.corpus import stopwords \n",
        "stopword=nltk.corpus.stopwords.words('english')\n",
        "new_words=[\"ba\",\"plane\",\"flight\",\"told\"]\n",
        "stopword.extend(new_words)"
      ]
    },
    {
      "cell_type": "code",
      "execution_count": 14,
      "metadata": {
        "colab": {
          "base_uri": "https://localhost:8080/"
        },
        "id": "QDNYKp0F40W2",
        "outputId": "5d3e546c-77d3-47f8-c81b-616b3bdbd5bd"
      },
      "outputs": [
        {
          "name": "stdout",
          "output_type": "stream",
          "text": [
            "['mumbai', 'edinburgh', 'via', 'london', 'quite', 'surprised', 'read', 'varied', 'review', 'always', 'great', 'experience', 'term', 'service', 'airport', 'handling', 'sale', 'service', 'different', 'experience', 'arrived', 'little', 'late', 'airport', 'due', 'transport', 'issue', 'hot', 'sweaty', 'girl', 'blessing', 'calmed', 'reassured', 'helped', 'get', 'security', 'swiftly', 'able', 'secure', 'cheap', 'upgrade', 'premium', 'economy', 'glad', 'service', 'wonderful', 'looked', 'well', 'lot', 'water', 'offered', 'throughout', 'thought', 'seat', 'tremendously', 'spacious', 'comfortable', 'even', 'regular', 'upgrade', 'price', 'rather', 'seat', 'side', 'rather', 'centre', 'give', 'lot', 'space', 'food', 'ok', 'worse', 'better', 'comfortable', 'good', 'temperature', 'great', 'choice', 'film', 'connecting', 'late', 'leaving', 'heathrow', 'edinburgh', 'due', 'bad', 'weather', 'handled', 'nicely', 'glad', 'flew', 'trip']\n"
          ]
        }
      ],
      "source": [
        "# Lemmatization of word tokens to its meaningful root word \n",
        "from nltk.stem import WordNetLemmatizer \n",
        "lemmatizer= WordNetLemmatizer()\n",
        "\n",
        "lemmatized_tokens=[[lemmatizer.lemmatize(word) for word in text if word not in set(stopword)] for text in cleaned_tokens]\n",
        "print(lemmatized_tokens[0])"
      ]
    },
    {
      "cell_type": "code",
      "execution_count": 15,
      "metadata": {
        "colab": {
          "base_uri": "https://localhost:8080/",
          "height": 450
        },
        "id": "pDOaj7CtAh3l",
        "outputId": "0e897986-5b49-40a3-ac3b-ca3a278439c2"
      },
      "outputs": [
        {
          "name": "stderr",
          "output_type": "stream",
          "text": [
            "<ipython-input-15-96937b02c74b>:4: SettingWithCopyWarning: \n",
            "A value is trying to be set on a copy of a slice from a DataFrame\n",
            "\n",
            "See the caveats in the documentation: https://pandas.pydata.org/pandas-docs/stable/user_guide/indexing.html#returning-a-view-versus-a-copy\n",
            "  df_copy.text[i] = ' '.join(lemmatized_tokens[i])\n"
          ]
        },
        {
          "data": {
            "text/html": [
              "\n",
              "  <div id=\"df-16a2979b-a51a-4a9d-a981-4a9d6f8dc52c\">\n",
              "    <div class=\"colab-df-container\">\n",
              "      <div>\n",
              "<style scoped>\n",
              "    .dataframe tbody tr th:only-of-type {\n",
              "        vertical-align: middle;\n",
              "    }\n",
              "\n",
              "    .dataframe tbody tr th {\n",
              "        vertical-align: top;\n",
              "    }\n",
              "\n",
              "    .dataframe thead th {\n",
              "        text-align: right;\n",
              "    }\n",
              "</style>\n",
              "<table border=\"1\" class=\"dataframe\">\n",
              "  <thead>\n",
              "    <tr style=\"text-align: right;\">\n",
              "      <th></th>\n",
              "      <th>text</th>\n",
              "      <th>score</th>\n",
              "    </tr>\n",
              "  </thead>\n",
              "  <tbody>\n",
              "    <tr>\n",
              "      <th>0</th>\n",
              "      <td>mumbai edinburgh via london quite surprised re...</td>\n",
              "      <td>2</td>\n",
              "    </tr>\n",
              "    <tr>\n",
              "      <th>1</th>\n",
              "      <td>mumbai london heathrow disappointing experienc...</td>\n",
              "      <td>2</td>\n",
              "    </tr>\n",
              "    <tr>\n",
              "      <th>2</th>\n",
              "      <td>delhi london read many negative review british...</td>\n",
              "      <td>2</td>\n",
              "    </tr>\n",
              "    <tr>\n",
              "      <th>3</th>\n",
              "      <td>travel british airway like lucky able british ...</td>\n",
              "      <td>1</td>\n",
              "    </tr>\n",
              "    <tr>\n",
              "      <th>4</th>\n",
              "      <td>british airway get plenty well deserved kickin...</td>\n",
              "      <td>2</td>\n",
              "    </tr>\n",
              "    <tr>\n",
              "      <th>5</th>\n",
              "      <td>first class even starting lounge may offshoot ...</td>\n",
              "      <td>0</td>\n",
              "    </tr>\n",
              "    <tr>\n",
              "      <th>6</th>\n",
              "      <td>linate london morning departure received email...</td>\n",
              "      <td>0</td>\n",
              "    </tr>\n",
              "    <tr>\n",
              "      <th>7</th>\n",
              "      <td>flew british airway jk london heathrow connect...</td>\n",
              "      <td>0</td>\n",
              "    </tr>\n",
              "    <tr>\n",
              "      <th>8</th>\n",
              "      <td>flown british airway numerous time many year s...</td>\n",
              "      <td>0</td>\n",
              "    </tr>\n",
              "    <tr>\n",
              "      <th>9</th>\n",
              "      <td>fault new world food service outbound inbound ...</td>\n",
              "      <td>2</td>\n",
              "    </tr>\n",
              "  </tbody>\n",
              "</table>\n",
              "</div>\n",
              "      <button class=\"colab-df-convert\" onclick=\"convertToInteractive('df-16a2979b-a51a-4a9d-a981-4a9d6f8dc52c')\"\n",
              "              title=\"Convert this dataframe to an interactive table.\"\n",
              "              style=\"display:none;\">\n",
              "        \n",
              "  <svg xmlns=\"http://www.w3.org/2000/svg\" height=\"24px\"viewBox=\"0 0 24 24\"\n",
              "       width=\"24px\">\n",
              "    <path d=\"M0 0h24v24H0V0z\" fill=\"none\"/>\n",
              "    <path d=\"M18.56 5.44l.94 2.06.94-2.06 2.06-.94-2.06-.94-.94-2.06-.94 2.06-2.06.94zm-11 1L8.5 8.5l.94-2.06 2.06-.94-2.06-.94L8.5 2.5l-.94 2.06-2.06.94zm10 10l.94 2.06.94-2.06 2.06-.94-2.06-.94-.94-2.06-.94 2.06-2.06.94z\"/><path d=\"M17.41 7.96l-1.37-1.37c-.4-.4-.92-.59-1.43-.59-.52 0-1.04.2-1.43.59L10.3 9.45l-7.72 7.72c-.78.78-.78 2.05 0 2.83L4 21.41c.39.39.9.59 1.41.59.51 0 1.02-.2 1.41-.59l7.78-7.78 2.81-2.81c.8-.78.8-2.07 0-2.86zM5.41 20L4 18.59l7.72-7.72 1.47 1.35L5.41 20z\"/>\n",
              "  </svg>\n",
              "      </button>\n",
              "      \n",
              "  <style>\n",
              "    .colab-df-container {\n",
              "      display:flex;\n",
              "      flex-wrap:wrap;\n",
              "      gap: 12px;\n",
              "    }\n",
              "\n",
              "    .colab-df-convert {\n",
              "      background-color: #E8F0FE;\n",
              "      border: none;\n",
              "      border-radius: 50%;\n",
              "      cursor: pointer;\n",
              "      display: none;\n",
              "      fill: #1967D2;\n",
              "      height: 32px;\n",
              "      padding: 0 0 0 0;\n",
              "      width: 32px;\n",
              "    }\n",
              "\n",
              "    .colab-df-convert:hover {\n",
              "      background-color: #E2EBFA;\n",
              "      box-shadow: 0px 1px 2px rgba(60, 64, 67, 0.3), 0px 1px 3px 1px rgba(60, 64, 67, 0.15);\n",
              "      fill: #174EA6;\n",
              "    }\n",
              "\n",
              "    [theme=dark] .colab-df-convert {\n",
              "      background-color: #3B4455;\n",
              "      fill: #D2E3FC;\n",
              "    }\n",
              "\n",
              "    [theme=dark] .colab-df-convert:hover {\n",
              "      background-color: #434B5C;\n",
              "      box-shadow: 0px 1px 3px 1px rgba(0, 0, 0, 0.15);\n",
              "      filter: drop-shadow(0px 1px 2px rgba(0, 0, 0, 0.3));\n",
              "      fill: #FFFFFF;\n",
              "    }\n",
              "  </style>\n",
              "\n",
              "      <script>\n",
              "        const buttonEl =\n",
              "          document.querySelector('#df-16a2979b-a51a-4a9d-a981-4a9d6f8dc52c button.colab-df-convert');\n",
              "        buttonEl.style.display =\n",
              "          google.colab.kernel.accessAllowed ? 'block' : 'none';\n",
              "\n",
              "        async function convertToInteractive(key) {\n",
              "          const element = document.querySelector('#df-16a2979b-a51a-4a9d-a981-4a9d6f8dc52c');\n",
              "          const dataTable =\n",
              "            await google.colab.kernel.invokeFunction('convertToInteractive',\n",
              "                                                     [key], {});\n",
              "          if (!dataTable) return;\n",
              "\n",
              "          const docLinkHtml = 'Like what you see? Visit the ' +\n",
              "            '<a target=\"_blank\" href=https://colab.research.google.com/notebooks/data_table.ipynb>data table notebook</a>'\n",
              "            + ' to learn more about interactive tables.';\n",
              "          element.innerHTML = '';\n",
              "          dataTable['output_type'] = 'display_data';\n",
              "          await google.colab.output.renderOutput(dataTable, element);\n",
              "          const docLink = document.createElement('div');\n",
              "          docLink.innerHTML = docLinkHtml;\n",
              "          element.appendChild(docLink);\n",
              "        }\n",
              "      </script>\n",
              "    </div>\n",
              "  </div>\n",
              "  "
            ],
            "text/plain": [
              "                                                text  score\n",
              "0  mumbai edinburgh via london quite surprised re...      2\n",
              "1  mumbai london heathrow disappointing experienc...      2\n",
              "2  delhi london read many negative review british...      2\n",
              "3  travel british airway like lucky able british ...      1\n",
              "4  british airway get plenty well deserved kickin...      2\n",
              "5  first class even starting lounge may offshoot ...      0\n",
              "6  linate london morning departure received email...      0\n",
              "7  flew british airway jk london heathrow connect...      0\n",
              "8  flown british airway numerous time many year s...      0\n",
              "9  fault new world food service outbound inbound ...      2"
            ]
          },
          "execution_count": 15,
          "metadata": {},
          "output_type": "execute_result"
        }
      ],
      "source": [
        "# Combining the cleaned lemmatized tokens back to form a single sentence for making a Bag-Of-Words\n",
        "df_copy=df_cleaned.copy()\n",
        "for i in range(len(df)):\n",
        "  df_copy.text[i] = ' '.join(lemmatized_tokens[i])\n",
        "\n",
        "df_copy.head(10)"
      ]
    },
    {
      "cell_type": "code",
      "execution_count": 16,
      "metadata": {
        "id": "C_nSVbmdHOU4"
      },
      "outputs": [],
      "source": [
        "# Splitting the dataset into training and testing datasets\n",
        "from sklearn.model_selection import train_test_split\n",
        "\n",
        "x = df_copy.text\n",
        "y = df_copy.score\n",
        "\n",
        "x_train, x_test,y_train,y_test = train_test_split(x,y,test_size = 0.3, random_state= 42)"
      ]
    },
    {
      "cell_type": "code",
      "execution_count": 17,
      "metadata": {
        "colab": {
          "base_uri": "https://localhost:8080/"
        },
        "id": "8zBAmRudJM3P",
        "outputId": "251121c3-afe0-43ef-99c7-bf566b9fd634"
      },
      "outputs": [
        {
          "name": "stdout",
          "output_type": "stream",
          "text": [
            "first class even starting lounge may offshoot fine concorde room need feel like rural train station poor food average drink indifferent staff compare lh facility fra muc ground assistance boarding haphazard fine cornish champagne offered happily quaffed seat ok class new ac j class pod close emirate suite small thing like menu presentation boarding sufficient food lot seat f seat comfort ok nothing special toilet small curiously offering paper crew friendly service decent delivery poor overall relentless drive bottom catching first class product worth name anymore one assume trying phase drive paying passenger airline place serious effort deliver superb premium product\n"
          ]
        }
      ],
      "source": [
        "print(df_copy.text[5])\n"
      ]
    },
    {
      "cell_type": "code",
      "execution_count": 18,
      "metadata": {
        "colab": {
          "base_uri": "https://localhost:8080/",
          "height": 52
        },
        "id": "bdKZ03tqJd6i",
        "outputId": "d6aa96d4-2bd6-4f6b-ea22-f555a9d475e0"
      },
      "outputs": [
        {
          "data": {
            "application/vnd.google.colaboratory.intrinsic+json": {
              "type": "string"
            },
            "text/plain": [
              "'problem airport vienna easy find british airway check desk time cabin crew kind pleasant also ordered tomato mozzarella flatbread delicious problem heathrow gate bridge malfunction wait hour aircraft airliner mistake enjoyed british airway'"
            ]
          },
          "execution_count": 18,
          "metadata": {},
          "output_type": "execute_result"
        }
      ],
      "source": [
        "df_copy.text[440]  #verifying data"
      ]
    },
    {
      "cell_type": "code",
      "execution_count": 19,
      "metadata": {
        "colab": {
          "base_uri": "https://localhost:8080/"
        },
        "id": "u1L3z_UAJtS8",
        "outputId": "1d4389f7-9efc-4a1b-f620-40bac555c0b3"
      },
      "outputs": [
        {
          "data": {
            "text/plain": [
              "2"
            ]
          },
          "execution_count": 19,
          "metadata": {},
          "output_type": "execute_result"
        }
      ],
      "source": [
        "df_copy.score[440]  #verifying data"
      ]
    },
    {
      "cell_type": "code",
      "execution_count": 20,
      "metadata": {
        "colab": {
          "base_uri": "https://localhost:8080/"
        },
        "id": "RJvYddWYJaCj",
        "outputId": "b120fdc4-b967-4c0b-b41d-3e1d746da4bc"
      },
      "outputs": [
        {
          "data": {
            "text/plain": [
              "541    0\n",
              "440    2\n",
              "482    0\n",
              "422    2\n",
              "778    0\n",
              "Name: score, dtype: int64"
            ]
          },
          "execution_count": 20,
          "metadata": {},
          "output_type": "execute_result"
        }
      ],
      "source": [
        "y_train.head()"
      ]
    },
    {
      "cell_type": "markdown",
      "metadata": {
        "id": "7OyczXqCFt_w"
      },
      "source": [
        "### making bag-of-words from the corpus"
      ]
    },
    {
      "cell_type": "code",
      "execution_count": 109,
      "metadata": {
        "colab": {
          "base_uri": "https://localhost:8080/"
        },
        "id": "MEFORZ8r-A-3",
        "outputId": "a008a21a-05e3-4153-9509-70e2fd3a5d1e"
      },
      "outputs": [
        {
          "name": "stdout",
          "output_type": "stream",
          "text": [
            "[[0 0 0 ... 0 0 0]\n",
            " [0 0 0 ... 0 0 0]\n",
            " [0 0 0 ... 0 0 0]\n",
            " ...\n",
            " [0 0 0 ... 0 0 0]\n",
            " [0 0 0 ... 0 0 0]\n",
            " [0 0 0 ... 0 0 0]]\n"
          ]
        }
      ],
      "source": [
        "# Transforming the texts into vector format for the machine learning models to consume.\n",
        "# Making Bag-Of-Words from the lemmatized_tokens for better feature selection\n",
        "\n",
        "from sklearn.feature_extraction.text import CountVectorizer as cv\n",
        "vect=cv(max_features=10000, #parameters\n",
        "        ngram_range=(2,2) #binary BOW takes two words at a time make a corpus\n",
        "        )\n",
        "vect.fit(x)\n",
        "total_bow = vect.transform(x) #BOW of the whole dataset text documents\n",
        "vect.fit(x_train)\n",
        "train_bow = vect.transform(x_train)\n",
        "vect.fit(x_test)\n",
        "test_bow = vect.transform(x_test)\n",
        "print(train_bow.toarray())\n"
      ]
    },
    {
      "cell_type": "code",
      "execution_count": null,
      "metadata": {
        "id": "x20hwgbS1g18"
      },
      "outputs": [],
      "source": [
        "print(vect.get_feature_names())"
      ]
    },
    {
      "cell_type": "markdown",
      "metadata": {
        "id": "zOMhwFLsF1ep"
      },
      "source": [
        "### making TF/IDF from the corpus"
      ]
    },
    {
      "cell_type": "code",
      "execution_count": null,
      "metadata": {
        "id": "IxDIVVDaH6r0"
      },
      "outputs": [],
      "source": [
        "x=list(df_copy.text)\n",
        "print(x)"
      ]
    },
    {
      "cell_type": "code",
      "execution_count": 22,
      "metadata": {
        "id": "bOoXolhT69Kh"
      },
      "outputs": [],
      "source": [
        "### making TF/IDF vector \n",
        "from sklearn.feature_extraction.text import TfidfVectorizer as tfidf \n",
        "tfidf_vect = tfidf(max_features = 1000,ngram_range = (1,3), max_df=0.75  #max_df means the word must be present in 75% of the documents in the corpus\n",
        "                   ,min_df=50 #min_df means the word should be present in atleast 50 documents in the corpus\n",
        "                   ,stop_words='english')\n",
        "#tfidf_vect.fit(x)\n",
        "total_tfidf = tfidf_vect.fit_transform(x)\n"
      ]
    },
    {
      "cell_type": "code",
      "execution_count": 23,
      "metadata": {
        "id": "XGl_OhrAGBr_"
      },
      "outputs": [],
      "source": [
        "x = total_tfidf\n",
        "y = df_copy.score\n",
        "\n",
        "train_tfidf, test_tfidf,y_train,y_test = train_test_split(x,y,test_size = 0.3, random_state= 42)"
      ]
    },
    {
      "cell_type": "markdown",
      "metadata": {
        "id": "LQjMSYNjzkDZ"
      },
      "source": [
        "## Making Word Cloud:\n",
        "Word cloud represents the most frequent word that the customer used in the comments."
      ]
    },
    {
      "cell_type": "code",
      "execution_count": 9,
      "metadata": {
        "colab": {
          "base_uri": "https://localhost:8080/",
          "height": 198
        },
        "id": "i4OLXCXfx6mc",
        "outputId": "6ff52f15-2523-48a5-bb95-8293d84bcfed"
      },
      "outputs": [
        {
          "data": {
            "image/png": "[encoded data removed]",
            "text/plain": [
              "<Figure size 432x288 with 1 Axes>"
            ]
          },
          "metadata": {
            "needs_background": "light"
          },
          "output_type": "display_data"
        }
      ],
      "source": [
        "from sklearn.feature_extraction.text import ENGLISH_STOP_WORDS\n",
        "from wordcloud import WordCloud as wc\n",
        "import matplotlib.pyplot as plt\n",
        "\n",
        "stopword=set(ENGLISH_STOP_WORDS)\n",
        "stopword.update([\"Trip Verified\",\"flight\",\"BA\",\"one\",\"hour\",\"day\",\"time\",\n",
        "                 \"will\",\"u\",\"told\",\"back\",\"us\",\"Verified\",\"Trip\"\n",
        "                 ,\"still\",\"even\",\"gate\",\"asked\",\"British\",\"Airway\",\n",
        "                 \"hours\",\"London\",\"Heathrow\",\"Airways\",\"airline\",\"did\",\"just\",\"bag\",\"got\",\"make\",\"ba\"])\n",
        "\n",
        "\n",
        "my_cloud = wc(background_color='black',stopwords=stopword).generate(str(df_cleaned.text.tolist()))\n",
        "\n",
        "# Display the generated wordcloud image\n",
        "plt.imshow(my_cloud, interpolation='bilinear') \n",
        "plt.axis(\"off\")\n",
        "\n",
        "# Don't forget to show the final image\n",
        "plt.show()"
      ]
    },
    {
      "cell_type": "markdown",
      "metadata": {
        "id": "o9iFeJ3xGTyq"
      },
      "source": [
        "## Modelling\n",
        "designing a machine learning model and fitting its parameters to training data"
      ]
    },
    {
      "cell_type": "markdown",
      "metadata": {
        "id": "YGNwyH_uLTAg"
      },
      "source": [
        "### Using Random Forest Classifier Model:"
      ]
    },
    {
      "cell_type": "code",
      "execution_count": 24,
      "metadata": {
        "colab": {
          "base_uri": "https://localhost:8080/"
        },
        "id": "F1ON76CLGQDV",
        "outputId": "dec9ea0a-eba2-4448-db46-c77c06f72573"
      },
      "outputs": [
        {
          "data": {
            "text/plain": [
              "RandomForestClassifier(criterion='entropy')"
            ]
          },
          "execution_count": 24,
          "metadata": {},
          "output_type": "execute_result"
        }
      ],
      "source": [
        "# Importing and making a random forest classfier\n",
        "from sklearn.ensemble import RandomForestClassifier \n",
        "random_classifier = RandomForestClassifier(n_estimators=100,criterion='entropy',)\n",
        "random_classifier.fit(train_tfidf,y_train)"
      ]
    },
    {
      "cell_type": "code",
      "execution_count": 25,
      "metadata": {
        "id": "adOa7a5pQ_ur"
      },
      "outputs": [],
      "source": [
        "# Testing the classifier with test dataset:\n",
        "predictions = random_classifier.predict(test_tfidf)"
      ]
    },
    {
      "cell_type": "code",
      "execution_count": 26,
      "metadata": {
        "colab": {
          "base_uri": "https://localhost:8080/"
        },
        "id": "1ADZHSy2RtgK",
        "outputId": "3ba648a9-0936-4a88-8a87-8f3c3705475f"
      },
      "outputs": [
        {
          "name": "stdout",
          "output_type": "stream",
          "text": [
            "[[0.46666667 0.         0.04      ]\n",
            " [0.07666667 0.         0.04      ]\n",
            " [0.07333333 0.         0.30333333]]\n",
            "0.77\n",
            "              precision    recall  f1-score   support\n",
            "\n",
            "           0       0.76      0.92      0.83       152\n",
            "           1       0.00      0.00      0.00        35\n",
            "           2       0.79      0.81      0.80       113\n",
            "\n",
            "    accuracy                           0.77       300\n",
            "   macro avg       0.52      0.58      0.54       300\n",
            "weighted avg       0.68      0.77      0.72       300\n",
            "\n"
          ]
        },
        {
          "name": "stderr",
          "output_type": "stream",
          "text": [
            "/usr/local/lib/python3.8/dist-packages/sklearn/metrics/_classification.py:1318: UndefinedMetricWarning: Precision and F-score are ill-defined and being set to 0.0 in labels with no predicted samples. Use `zero_division` parameter to control this behavior.\n",
            "  _warn_prf(average, modifier, msg_start, len(result))\n",
            "/usr/local/lib/python3.8/dist-packages/sklearn/metrics/_classification.py:1318: UndefinedMetricWarning: Precision and F-score are ill-defined and being set to 0.0 in labels with no predicted samples. Use `zero_division` parameter to control this behavior.\n",
            "  _warn_prf(average, modifier, msg_start, len(result))\n",
            "/usr/local/lib/python3.8/dist-packages/sklearn/metrics/_classification.py:1318: UndefinedMetricWarning: Precision and F-score are ill-defined and being set to 0.0 in labels with no predicted samples. Use `zero_division` parameter to control this behavior.\n",
            "  _warn_prf(average, modifier, msg_start, len(result))\n"
          ]
        }
      ],
      "source": [
        "# checking accuracy score:\n",
        "from sklearn.metrics import classification_report,confusion_matrix,accuracy_score\n",
        "\n",
        "matrix = confusion_matrix(y_test,predictions)/len(y_test)\n",
        "print(matrix)\n",
        "score = accuracy_score(y_test,predictions)\n",
        "print(score)\n",
        "report = classification_report(y_test,predictions)\n",
        "print(report)\n"
      ]
    },
    {
      "cell_type": "code",
      "execution_count": 36,
      "metadata": {
        "colab": {
          "base_uri": "https://localhost:8080/"
        },
        "id": "BKZeBPgoBXkf",
        "outputId": "49999c19-65eb-4677-a790-65acce39288b"
      },
      "outputs": [
        {
          "name": "stdout",
          "output_type": "stream",
          "text": [
            "[['the', 'flying', 'experience', 'with', 'ba', 'was', 'very', 'good', 'in', 'the', 'business', 'class', ',', 'they', 'had', 'very', 'nice', 'service', 'in', 'the', 'business', 'class', ',', 'the', 'food', 'choice', 'is', 'also', 'good', 'in', 'business', 'class', 'as', 'compared', 'to', 'the', 'economy', 'and', 'others', ',', 'the', 'wine', 'served', 'in', 'the', 'business', 'class', 'is', 'too', 'perfect', 'it', 'just', 'blends', 'in', 'with', 'the', 'ambience', 'and', 'the', 'royalty', 'of', 'the', 'plane']]\n",
            "[['the', 'flying', 'experience', 'with', 'ba', 'was', 'very', 'good', 'in', 'the', 'business', 'class', 'they', 'had', 'very', 'nice', 'service', 'in', 'the', 'business', 'class', 'the', 'food', 'choice', 'is', 'also', 'good', 'in', 'business', 'class', 'as', 'compared', 'to', 'the', 'economy', 'and', 'others', 'the', 'wine', 'served', 'in', 'the', 'business', 'class', 'is', 'too', 'perfect', 'it', 'just', 'blends', 'in', 'with', 'the', 'ambience', 'and', 'the', 'royalty', 'of', 'the', 'plane']]\n",
            "[['the', 'flying', 'experience', 'with', 'ba', 'wa', 'very', 'good', 'in', 'the', 'business', 'class', 'they', 'had', 'very', 'nice', 'service', 'in', 'the', 'business', 'class', 'the', 'food', 'choice', 'is', 'also', 'good', 'in', 'business', 'class', 'a', 'compared', 'to', 'the', 'economy', 'and', 'others', 'the', 'wine', 'served', 'in', 'the', 'business', 'class', 'is', 'too', 'perfect', 'it', 'just', 'blend', 'in', 'with', 'the', 'ambience', 'and', 'the', 'royalty', 'of', 'the', 'plane']]\n",
            "['the flying experience with ba wa very good in the business class they had very nice service in the business class the food choice is also good in business class a compared to the economy and others the wine served in the business class is too perfect it just blend in with the ambience and the royalty of the plane']\n",
            "[2]\n"
          ]
        }
      ],
      "source": [
        "## testing the model performance using a custom text\n",
        "\n",
        "document = [\"the flying experience with ba was very good in the business class,they had very nice service in the business class,the food choice is also good in business class as compared to the economy and others,the wine served in the business class is too perfect it just blends in with the ambience and the royalty of the plane\",]\n",
        "wordstoken=[wt(text) for text in document]\n",
        "cleantokens=[[word for word in text if word.isalpha()] for text in wordstoken]\n",
        "l1=[[lemmatizer.lemmatize(word) for word in text] for text in cleantokens]\n",
        "a=[]\n",
        "for i in range(len(document)):\n",
        "  document[i]=' '.join(l1[i])\n",
        "\n",
        "# # \n",
        "vector = tfidf_vect.transform(document)\n",
        "predictions = random_classifier.predict(vector)\n",
        "\n",
        "\n",
        "print(wordstoken)\n",
        "print(cleantokens)\n",
        "print(l1)\n",
        "print(document)\n",
        "print(predictions)\n"
      ]
    },
    {
      "cell_type": "markdown",
      "metadata": {
        "id": "vbyGmCQCvcFg"
      },
      "source": [
        "### Topic Modelling of the review texts:\n",
        "The idea here is to segregate the topics that are being mostly talked about the customers in their reviews."
      ]
    },
    {
      "cell_type": "code",
      "execution_count": 31,
      "metadata": {
        "id": "vRigLXPevvy0"
      },
      "outputs": [],
      "source": [
        "# importing decomposition module from sklearn to breakdown the review text and figure out the topic the review is for\n",
        "from sklearn import decomposition\n",
        "lda = decomposition.LatentDirichletAllocation(n_components=5,max_iter=20,learning_method='online',learning_offset=100,n_jobs=1,random_state=11)"
      ]
    },
    {
      "cell_type": "code",
      "execution_count": 33,
      "metadata": {
        "id": "6mvIgvHtxZM8"
      },
      "outputs": [],
      "source": [
        "w1=lda.fit_transform(total_tfidf)\n",
        "h1=lda.components_"
      ]
    },
    {
      "cell_type": "code",
      "execution_count": 34,
      "metadata": {
        "colab": {
          "base_uri": "https://localhost:8080/"
        },
        "id": "0XFYvbHFzjRI",
        "outputId": "907bb156-a818-44fb-a923-151be0517474"
      },
      "outputs": [
        {
          "data": {
            "text/plain": [
              "array([0.03069918, 0.03157837, 0.03069897, 0.03069867, 0.8763248 ])"
            ]
          },
          "execution_count": 34,
          "metadata": {},
          "output_type": "execute_result"
        }
      ],
      "source": [
        "w1[0]"
      ]
    },
    {
      "cell_type": "code",
      "execution_count": 38,
      "metadata": {
        "colab": {
          "base_uri": "https://localhost:8080/"
        },
        "id": "lYR42ZtJ5-kc",
        "outputId": "6393bae7-1701-43a9-fcd0-4487ac0581e1"
      },
      "outputs": [
        {
          "name": "stderr",
          "output_type": "stream",
          "text": [
            "/usr/local/lib/python3.8/dist-packages/sklearn/utils/deprecation.py:87: FutureWarning: Function get_feature_names is deprecated; get_feature_names is deprecated in 1.0 and will be removed in 1.2. Please use get_feature_names_out instead.\n",
            "  warnings.warn(msg, category=FutureWarning)\n"
          ]
        },
        {
          "data": {
            "text/plain": [
              "['business seat call button person front class lounge choose seat london british british airway food offering month advance flew british row seat economy cabin food ok could see delay due',\n",
              " 'everything went immediately behind long time good wine would recommend british airway call button favourite airline seat close service british row seat travel companion looking forward well managed think unacceptable',\n",
              " 'good service charm food lounge access check business qatar airway boarding people could speak seat without london gatwick good overall back london movie selection economy class friendly service outbound journey',\n",
              " 'bread roll madrid london seat tiny hour wait business seat food offering london british call button coffee tea took almost singapore london queue bag long time exit row film choice',\n",
              " 'british airway crew attentive business seat travel companion london british number given number called experience ever flew british choice ife care customer boarding well ask refund crew pretty crew good']"
            ]
          },
          "execution_count": 38,
          "metadata": {},
          "output_type": "execute_result"
        }
      ],
      "source": [
        "import numpy as np\n",
        "\n",
        "num_words = 15\n",
        "vocab = np.array(vect.get_feature_names())\n",
        "\n",
        "top_words = lambda t: [vocab[i] for i in np.argsort(t)[:-num_words-1:-1]]\n",
        "topic_words = ([top_words(t) for t in h1])\n",
        "topics = [' '.join(t) for t in topic_words]\n",
        "\n",
        "topics"
      ]
    },
    {
      "cell_type": "code",
      "execution_count": 58,
      "metadata": {
        "id": "qCUNhyywpD5x"
      },
      "outputs": [],
      "source": [
        "topics_list=['Business_class','food&comfort','hospitality','boarding','customer_care']"
      ]
    },
    {
      "cell_type": "code",
      "execution_count": 59,
      "metadata": {
        "id": "x3rG_qBuFU99"
      },
      "outputs": [],
      "source": [
        "# prominent_topic = max(w1[1])\n",
        "# topic = np.where(w1[1]==prominent_topic)[0]\n",
        "\n",
        "# print(w1)\n",
        "# print(topic)\n",
        "topic=[]\n",
        "for i in range(len(df_copy)):\n",
        "  prominent_topic = max(w1[i])\n",
        "  topic.append(str(np.where(w1[i]==prominent_topic)[0]))"
      ]
    },
    {
      "cell_type": "code",
      "execution_count": 87,
      "metadata": {
        "colab": {
          "base_uri": "https://localhost:8080/",
          "height": 293
        },
        "id": "ovfW3_ppPKm9",
        "outputId": "5a4a21b0-96f7-4f3d-a8e5-0cf5a4962ff1"
      },
      "outputs": [
        {
          "name": "stderr",
          "output_type": "stream",
          "text": [
            "<ipython-input-87-6bcd5e42f045>:6: SettingWithCopyWarning: \n",
            "A value is trying to be set on a copy of a slice from a DataFrame\n",
            "\n",
            "See the caveats in the documentation: https://pandas.pydata.org/pandas-docs/stable/user_guide/indexing.html#returning-a-view-versus-a-copy\n",
            "  df_copy.topic[i]=int(df_copy.topic[i][1])+1\n"
          ]
        },
        {
          "data": {
            "text/html": [
              "\n",
              "  <div id=\"df-4492e528-69d0-4f98-9681-cb06cc3912e5\">\n",
              "    <div class=\"colab-df-container\">\n",
              "      <div>\n",
              "<style scoped>\n",
              "    .dataframe tbody tr th:only-of-type {\n",
              "        vertical-align: middle;\n",
              "    }\n",
              "\n",
              "    .dataframe tbody tr th {\n",
              "        vertical-align: top;\n",
              "    }\n",
              "\n",
              "    .dataframe thead th {\n",
              "        text-align: right;\n",
              "    }\n",
              "</style>\n",
              "<table border=\"1\" class=\"dataframe\">\n",
              "  <thead>\n",
              "    <tr style=\"text-align: right;\">\n",
              "      <th></th>\n",
              "      <th>text</th>\n",
              "      <th>score</th>\n",
              "      <th>topic</th>\n",
              "      <th>topics_name</th>\n",
              "      <th>sentiment</th>\n",
              "    </tr>\n",
              "  </thead>\n",
              "  <tbody>\n",
              "    <tr>\n",
              "      <th>0</th>\n",
              "      <td>mumbai edinburgh via london quite surprised re...</td>\n",
              "      <td>2</td>\n",
              "      <td>1</td>\n",
              "      <td>Business_class</td>\n",
              "      <td>Positive</td>\n",
              "    </tr>\n",
              "    <tr>\n",
              "      <th>1</th>\n",
              "      <td>mumbai london heathrow disappointing experienc...</td>\n",
              "      <td>2</td>\n",
              "      <td>1</td>\n",
              "      <td>Business_class</td>\n",
              "      <td>Positive</td>\n",
              "    </tr>\n",
              "    <tr>\n",
              "      <th>2</th>\n",
              "      <td>delhi london read many negative review british...</td>\n",
              "      <td>2</td>\n",
              "      <td>3</td>\n",
              "      <td>hospitality</td>\n",
              "      <td>Positive</td>\n",
              "    </tr>\n",
              "    <tr>\n",
              "      <th>3</th>\n",
              "      <td>travel british airway like lucky able british ...</td>\n",
              "      <td>1</td>\n",
              "      <td>5</td>\n",
              "      <td>customer_care</td>\n",
              "      <td>Neutral</td>\n",
              "    </tr>\n",
              "    <tr>\n",
              "      <th>4</th>\n",
              "      <td>british airway get plenty well deserved kickin...</td>\n",
              "      <td>2</td>\n",
              "      <td>1</td>\n",
              "      <td>Business_class</td>\n",
              "      <td>Positive</td>\n",
              "    </tr>\n",
              "  </tbody>\n",
              "</table>\n",
              "</div>\n",
              "      <button class=\"colab-df-convert\" onclick=\"convertToInteractive('df-4492e528-69d0-4f98-9681-cb06cc3912e5')\"\n",
              "              title=\"Convert this dataframe to an interactive table.\"\n",
              "              style=\"display:none;\">\n",
              "        \n",
              "  <svg xmlns=\"http://www.w3.org/2000/svg\" height=\"24px\"viewBox=\"0 0 24 24\"\n",
              "       width=\"24px\">\n",
              "    <path d=\"M0 0h24v24H0V0z\" fill=\"none\"/>\n",
              "    <path d=\"M18.56 5.44l.94 2.06.94-2.06 2.06-.94-2.06-.94-.94-2.06-.94 2.06-2.06.94zm-11 1L8.5 8.5l.94-2.06 2.06-.94-2.06-.94L8.5 2.5l-.94 2.06-2.06.94zm10 10l.94 2.06.94-2.06 2.06-.94-2.06-.94-.94-2.06-.94 2.06-2.06.94z\"/><path d=\"M17.41 7.96l-1.37-1.37c-.4-.4-.92-.59-1.43-.59-.52 0-1.04.2-1.43.59L10.3 9.45l-7.72 7.72c-.78.78-.78 2.05 0 2.83L4 21.41c.39.39.9.59 1.41.59.51 0 1.02-.2 1.41-.59l7.78-7.78 2.81-2.81c.8-.78.8-2.07 0-2.86zM5.41 20L4 18.59l7.72-7.72 1.47 1.35L5.41 20z\"/>\n",
              "  </svg>\n",
              "      </button>\n",
              "      \n",
              "  <style>\n",
              "    .colab-df-container {\n",
              "      display:flex;\n",
              "      flex-wrap:wrap;\n",
              "      gap: 12px;\n",
              "    }\n",
              "\n",
              "    .colab-df-convert {\n",
              "      background-color: #E8F0FE;\n",
              "      border: none;\n",
              "      border-radius: 50%;\n",
              "      cursor: pointer;\n",
              "      display: none;\n",
              "      fill: #1967D2;\n",
              "      height: 32px;\n",
              "      padding: 0 0 0 0;\n",
              "      width: 32px;\n",
              "    }\n",
              "\n",
              "    .colab-df-convert:hover {\n",
              "      background-color: #E2EBFA;\n",
              "      box-shadow: 0px 1px 2px rgba(60, 64, 67, 0.3), 0px 1px 3px 1px rgba(60, 64, 67, 0.15);\n",
              "      fill: #174EA6;\n",
              "    }\n",
              "\n",
              "    [theme=dark] .colab-df-convert {\n",
              "      background-color: #3B4455;\n",
              "      fill: #D2E3FC;\n",
              "    }\n",
              "\n",
              "    [theme=dark] .colab-df-convert:hover {\n",
              "      background-color: #434B5C;\n",
              "      box-shadow: 0px 1px 3px 1px rgba(0, 0, 0, 0.15);\n",
              "      filter: drop-shadow(0px 1px 2px rgba(0, 0, 0, 0.3));\n",
              "      fill: #FFFFFF;\n",
              "    }\n",
              "  </style>\n",
              "\n",
              "      <script>\n",
              "        const buttonEl =\n",
              "          document.querySelector('#df-4492e528-69d0-4f98-9681-cb06cc3912e5 button.colab-df-convert');\n",
              "        buttonEl.style.display =\n",
              "          google.colab.kernel.accessAllowed ? 'block' : 'none';\n",
              "\n",
              "        async function convertToInteractive(key) {\n",
              "          const element = document.querySelector('#df-4492e528-69d0-4f98-9681-cb06cc3912e5');\n",
              "          const dataTable =\n",
              "            await google.colab.kernel.invokeFunction('convertToInteractive',\n",
              "                                                     [key], {});\n",
              "          if (!dataTable) return;\n",
              "\n",
              "          const docLinkHtml = 'Like what you see? Visit the ' +\n",
              "            '<a target=\"_blank\" href=https://colab.research.google.com/notebooks/data_table.ipynb>data table notebook</a>'\n",
              "            + ' to learn more about interactive tables.';\n",
              "          element.innerHTML = '';\n",
              "          dataTable['output_type'] = 'display_data';\n",
              "          await google.colab.output.renderOutput(dataTable, element);\n",
              "          const docLink = document.createElement('div');\n",
              "          docLink.innerHTML = docLinkHtml;\n",
              "          element.appendChild(docLink);\n",
              "        }\n",
              "      </script>\n",
              "    </div>\n",
              "  </div>\n",
              "  "
            ],
            "text/plain": [
              "                                                text  score topic  \\\n",
              "0  mumbai edinburgh via london quite surprised re...      2     1   \n",
              "1  mumbai london heathrow disappointing experienc...      2     1   \n",
              "2  delhi london read many negative review british...      2     3   \n",
              "3  travel british airway like lucky able british ...      1     5   \n",
              "4  british airway get plenty well deserved kickin...      2     1   \n",
              "\n",
              "      topics_name sentiment  \n",
              "0  Business_class  Positive  \n",
              "1  Business_class  Positive  \n",
              "2     hospitality  Positive  \n",
              "3   customer_care   Neutral  \n",
              "4  Business_class  Positive  "
            ]
          },
          "execution_count": 87,
          "metadata": {},
          "output_type": "execute_result"
        }
      ],
      "source": [
        "df_copy['topic']=topic\n",
        "a=[]\n",
        "b=[]\n",
        "for i in range(len(df_copy)):\n",
        "  a.append(topics_list[int(df_copy.topic[i][1])])\n",
        "  df_copy.topic[i]=int(df_copy.topic[i][1])+1\n",
        "  if(df_copy.score[i] == 0): \n",
        "    b.append('Negative')\n",
        "  if(df_copy.score[i] == 1): \n",
        "    b.append('Neutral')\n",
        "  if(df_copy.score[i] == 2): b.append('Positive')\n",
        "\n",
        "df_copy['topics_name'] = a\n",
        "df_copy['sentiment'] = b\n",
        "df_copy.head()"
      ]
    },
    {
      "cell_type": "code",
      "execution_count": 91,
      "metadata": {
        "colab": {
          "base_uri": "https://localhost:8080/",
          "height": 265
        },
        "id": "IM90grlXxqvH",
        "outputId": "8b0cd991-354b-44e8-b2d8-f03715903542"
      },
      "outputs": [
        {
          "data": {
            "text/plain": [
              "<matplotlib.axes._subplots.AxesSubplot at 0x7fb16f769280>"
            ]
          },
          "execution_count": 91,
          "metadata": {},
          "output_type": "execute_result"
        },
        {
          "data": {
            "image/png": "[encoded data removed]",
            "text/plain": [
              "<Figure size 432x288 with 1 Axes>"
            ]
          },
          "metadata": {},
          "output_type": "display_data"
        }
      ],
      "source": [
        "df_copy.sentiment.value_counts().plot(kind='pie',autopct='%1.0f%%')"
      ]
    },
    {
      "cell_type": "code",
      "execution_count": 83,
      "metadata": {
        "colab": {
          "base_uri": "https://localhost:8080/",
          "height": 298
        },
        "id": "WKB7z_WSvEhh",
        "outputId": "f62f3b7e-dfb4-4134-b97c-8a4d79d7d60a"
      },
      "outputs": [
        {
          "data": {
            "text/plain": [
              "<matplotlib.axes._subplots.AxesSubplot at 0x7fb16f7d0730>"
            ]
          },
          "execution_count": 83,
          "metadata": {},
          "output_type": "execute_result"
        },
        {
          "data": {
            "image/png": "[encoded data removed]",
            "text/plain": [
              "<Figure size 432x288 with 1 Axes>"
            ]
          },
          "metadata": {
            "needs_background": "light"
          },
          "output_type": "display_data"
        }
      ],
      "source": [
        "df_copy.score.plot(kind='hist',title='Review type',legend=['pos'])"
      ]
    },
    {
      "cell_type": "code",
      "execution_count": 67,
      "metadata": {
        "colab": {
          "base_uri": "https://localhost:8080/",
          "height": 281
        },
        "id": "rm34Os5VSla4",
        "outputId": "b2f1fd63-79dc-478a-a1b8-649b17a11c06"
      },
      "outputs": [
        {
          "data": {
            "text/plain": [
              "<matplotlib.axes._subplots.AxesSubplot at 0x7fb16fe57700>"
            ]
          },
          "execution_count": 67,
          "metadata": {},
          "output_type": "execute_result"
        },
        {
          "data": {
            "image/png": "[encoded data removed]",
            "text/plain": [
              "<Figure size 432x288 with 1 Axes>"
            ]
          },
          "metadata": {},
          "output_type": "display_data"
        }
      ],
      "source": [
        "df_copy.topics_name.value_counts().plot(kind='pie',autopct='%1.0f%%',title='most discussed topic')"
      ]
    },
    {
      "cell_type": "code",
      "execution_count": 96,
      "metadata": {
        "colab": {
          "base_uri": "https://localhost:8080/",
          "height": 420
        },
        "id": "zvd7QAgERB1R",
        "outputId": "c32a04a7-7fbb-4de8-ff4b-405e9afed460"
      },
      "outputs": [
        {
          "data": {
            "text/plain": [
              "<matplotlib.axes._subplots.AxesSubplot at 0x7fb16f5a2940>"
            ]
          },
          "execution_count": 96,
          "metadata": {},
          "output_type": "execute_result"
        },
        {
          "data": {
            "image/png": "[encoded data removed]",
            "text/plain": [
              "<Figure size 432x288 with 1 Axes>"
            ]
          },
          "metadata": {
            "needs_background": "light"
          },
          "output_type": "display_data"
        }
      ],
      "source": [
        "topic_count=df_copy.groupby(['topics_name','sentiment']).count()\n",
        "topic_count.plot(kind='bar')"
      ]
    },
    {
      "cell_type": "code",
      "execution_count": 103,
      "metadata": {
        "colab": {
          "base_uri": "https://localhost:8080/",
          "height": 281
        },
        "id": "EFITb_7lyiZf",
        "outputId": "352f385c-1627-4675-d4d3-16b48096dffc"
      },
      "outputs": [
        {
          "data": {
            "text/plain": [
              "<matplotlib.axes._subplots.AxesSubplot at 0x7fb16f2b59d0>"
            ]
          },
          "execution_count": 103,
          "metadata": {},
          "output_type": "execute_result"
        },
        {
          "data": {
            "image/png": "[encoded data removed]",
            "text/plain": [
              "<Figure size 432x288 with 1 Axes>"
            ]
          },
          "metadata": {},
          "output_type": "display_data"
        }
      ],
      "source": [
        "df1=df_copy[df_copy.topics_name == 'Business_class']\n",
        "df1.sentiment.value_counts().plot(kind='pie',title='Topic-Business_class reviews',autopct='%1.0f%%')"
      ]
    },
    {
      "cell_type": "code",
      "execution_count": 104,
      "metadata": {
        "colab": {
          "base_uri": "https://localhost:8080/",
          "height": 281
        },
        "id": "3PI21LLZzvdb",
        "outputId": "8081c6ef-9c19-40f6-b0e0-7a6d5a338098"
      },
      "outputs": [
        {
          "data": {
            "text/plain": [
              "<matplotlib.axes._subplots.AxesSubplot at 0x7fb16f277e20>"
            ]
          },
          "execution_count": 104,
          "metadata": {},
          "output_type": "execute_result"
        },
        {
          "data": {
            "image/png": "[encoded data removed]",
            "text/plain": [
              "<Figure size 432x288 with 1 Axes>"
            ]
          },
          "metadata": {},
          "output_type": "display_data"
        }
      ],
      "source": [
        "df1=df_copy[df_copy.topics_name == 'boarding']\n",
        "df1.sentiment.value_counts().plot(kind='pie',title='Topic-boarding reviews',autopct='%1.0f%%')"
      ]
    },
    {
      "cell_type": "code",
      "execution_count": 105,
      "metadata": {
        "colab": {
          "base_uri": "https://localhost:8080/",
          "height": 281
        },
        "id": "68UsGThV0LSU",
        "outputId": "9115a9e1-f48e-4968-ac00-e7f7af06e855"
      },
      "outputs": [
        {
          "data": {
            "text/plain": [
              "<matplotlib.axes._subplots.AxesSubplot at 0x7fb16f24b1f0>"
            ]
          },
          "execution_count": 105,
          "metadata": {},
          "output_type": "execute_result"
        },
        {
          "data": {
            "image/png": "[encoded data removed]",
            "text/plain": [
              "<Figure size 432x288 with 1 Axes>"
            ]
          },
          "metadata": {},
          "output_type": "display_data"
        }
      ],
      "source": [
        "df1=df_copy[df_copy.topics_name == 'customer_care']\n",
        "df1.sentiment.value_counts().plot(kind='pie',title='Topic-customer_care reviews',autopct='%1.0f%%')"
      ]
    },
    {
      "cell_type": "code",
      "execution_count": 106,
      "metadata": {
        "colab": {
          "base_uri": "https://localhost:8080/",
          "height": 281
        },
        "id": "gzu30Pmt0U9G",
        "outputId": "91748b31-aee1-4832-b464-bc37241dab03"
      },
      "outputs": [
        {
          "data": {
            "text/plain": [
              "<matplotlib.axes._subplots.AxesSubplot at 0x7fb16f20f6d0>"
            ]
          },
          "execution_count": 106,
          "metadata": {},
          "output_type": "execute_result"
        },
        {
          "data": {
            "image/png": "[encoded data removed]",
            "text/plain": [
              "<Figure size 432x288 with 1 Axes>"
            ]
          },
          "metadata": {},
          "output_type": "display_data"
        }
      ],
      "source": [
        "df1=df_copy[df_copy.topics_name == 'food&comfort']\n",
        "df1.sentiment.value_counts().plot(kind='pie',title='Topic-food&comfort reviews',autopct='%1.0f%%')"
      ]
    },
    {
      "cell_type": "code",
      "execution_count": 107,
      "metadata": {
        "colab": {
          "base_uri": "https://localhost:8080/",
          "height": 281
        },
        "id": "VwP-8bqK0VpS",
        "outputId": "cd05e9c7-e60a-46c1-dc88-994a8fb928af"
      },
      "outputs": [
        {
          "data": {
            "text/plain": [
              "<matplotlib.axes._subplots.AxesSubplot at 0x7fb16f1ccaf0>"
            ]
          },
          "execution_count": 107,
          "metadata": {},
          "output_type": "execute_result"
        },
        {
          "data": {
            "image/png": "[encoded data removed]",
            "text/plain": [
              "<Figure size 432x288 with 1 Axes>"
            ]
          },
          "metadata": {},
          "output_type": "display_data"
        }
      ],
      "source": [
        "df1=df_copy[df_copy.topics_name == 'hospitality']\n",
        "df1.sentiment.value_counts().plot(kind='pie',title='Topic-hospitality reviews',autopct='%1.0f%%')"
      ]
    },
    {
      "cell_type": "code",
      "execution_count": 37,
      "metadata": {
        "colab": {
          "base_uri": "https://localhost:8080/"
        },
        "id": "dNbNw_o9lTiM",
        "outputId": "ed84dec2-f29f-4e9b-8278-4703fa18afd7"
      },
      "outputs": [
        {
          "data": {
            "text/plain": [
              "array([[0.05083993, 0.79658494, 0.05074305, 0.05090527, 0.05092681]])"
            ]
          },
          "execution_count": 37,
          "metadata": {},
          "output_type": "execute_result"
        }
      ],
      "source": [
        "### testing the topic classifier with custom text that is converted to its vector format.\n",
        "\n",
        "w2=lda.fit_transform(vector)\n",
        "w2"
      ]
    },
    {
      "cell_type": "code",
      "execution_count": null,
      "metadata": {
        "id": "ZOytKNrrwssp"
      },
      "outputs": [],
      "source": []
    }
  ],
  "metadata": {
    "colab": {
      "provenance": []
    },
    "kernelspec": {
      "display_name": "Python 3.9.2 64-bit",
      "language": "python",
      "name": "python3"
    },
    "language_info": {
      "codemirror_mode": {
        "name": "ipython",
        "version": 3
      },
      "file_extension": ".py",
      "mimetype": "text/x-python",
      "name": "python",
      "nbconvert_exporter": "python",
      "pygments_lexer": "ipython3",
      "version": "3.9.2"
    },
    "vscode": {
      "interpreter": {
        "hash": "11938c6bc6919ae2720b4d5011047913343b08a43b18698fd82dedb0d4417594"
      }
    }
  },
  "nbformat": 4,
  "nbformat_minor": 0
}
